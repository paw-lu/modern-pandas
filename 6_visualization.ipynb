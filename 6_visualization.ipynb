{
 "cells": [
  {
   "cell_type": "code",
   "execution_count": null,
   "metadata": {},
   "outputs": [
    {
     "output_type": "error",
     "ename": "Error",
     "evalue": "Jupyter cannot be started. Error attempting to locate jupyter: Data Science library notebook is not installed in interpreter Python 3.8.2 64-bit ('modern-pandas-gheCaqJK-py3.8': venv).",
     "traceback": [
      "Error: Jupyter cannot be started. Error attempting to locate jupyter: Data Science library notebook is not installed in interpreter Python 3.8.2 64-bit ('modern-pandas-gheCaqJK-py3.8': venv).",
      "at C.startServer (/Users/pcosta/.vscode/extensions/ms-python.python-2020.4.76186/out/client/extension.js:75:829561)",
      "at async C.createServer (/Users/pcosta/.vscode/extensions/ms-python.python-2020.4.76186/out/client/extension.js:75:829004)",
      "at async C.ensureServerAndNotebookImpl (/Users/pcosta/.vscode/extensions/ms-python.python-2020.4.76186/out/client/extension.js:1:864755)",
      "at async C.ensureServerAndNotebook (/Users/pcosta/.vscode/extensions/ms-python.python-2020.4.76186/out/client/extension.js:1:864445)",
      "at async C.clearResult (/Users/pcosta/.vscode/extensions/ms-python.python-2020.4.76186/out/client/extension.js:1:860512)",
      "at async C.reexecuteCell (/Users/pcosta/.vscode/extensions/ms-python.python-2020.4.76186/out/client/extension.js:1:848782)",
      "at async C.reexecuteCells (/Users/pcosta/.vscode/extensions/ms-python.python-2020.4.76186/out/client/extension.js:1:845949)"
     ]
    }
   ],
   "source": [
    "for i in range(20):\n",
    "    print(i)"
   ]
  },
  {
   "cell_type": "code",
   "execution_count": null,
   "metadata": {},
   "outputs": [],
   "source": [
    "x = \n"
   ]
  }
 ],
 "metadata": {
  "language_info": {
   "codemirror_mode": {
    "name": "ipython",
    "version": 3
   },
   "file_extension": ".py",
   "mimetype": "text/x-python",
   "name": "python",
   "nbconvert_exporter": "python",
   "pygments_lexer": "ipython3",
   "version": 3
  },
  "orig_nbformat": 2
 },
 "nbformat": 4,
 "nbformat_minor": 2
}