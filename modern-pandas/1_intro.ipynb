{
 "cells": [
  {
   "cell_type": "markdown",
   "metadata": {
    "Collapsed": "false"
   },
   "source": [
    "# 1. Modern Pandas"
   ]
  },
  {
   "cell_type": "markdown",
   "metadata": {
    "Collapsed": "false"
   },
   "source": [
    "## Get data"
   ]
  },
  {
   "cell_type": "markdown",
   "metadata": {
    "Collapsed": "false"
   },
   "source": [
    "Just downloading data here. Feel free to ignore 😅."
   ]
  },
  {
   "cell_type": "code",
   "execution_count": 1,
   "metadata": {
    "Collapsed": "false"
   },
   "outputs": [],
   "source": [
    "import os\n",
    "import zipfile\n",
    "\n",
    "import requests\n",
    "import numpy as np\n",
    "import pandas as pd\n",
    "import seaborn as sns\n",
    "import matplotlib.pyplot as plt"
   ]
  },
  {
   "cell_type": "code",
   "execution_count": 2,
   "metadata": {
    "Collapsed": "false"
   },
   "outputs": [],
   "source": [
    "headers = {\n",
    "    \"Referer\": \"https://www.transtats.bts.gov/DL_SelectFields.asp?Table_ID=236&DB_Short_Name=On-Time\",\n",
    "    \"Origin\": \"https://www.transtats.bts.gov\",\n",
    "    \"Content-Type\": \"application/x-www-form-urlencoded\",\n",
    "}\n",
    "\n",
    "params = (\n",
    "    (\"Table_ID\", \"236\"),\n",
    "    (\"Has_Group\", \"3\"),\n",
    "    (\"Is_Zipped\", \"0\"),\n",
    ")\n",
    "\n",
    "with open(\"modern-1-url.txt\", encoding=\"utf-8\") as f:\n",
    "    data = f.read().strip()\n",
    "\n",
    "os.makedirs(\"data\", exist_ok=True)\n",
    "dest = \"data/flights.csv.zip\"\n",
    "\n",
    "if not os.path.exists(dest):\n",
    "    r = requests.post(\n",
    "        \"https://www.transtats.bts.gov/DownLoad_Table.asp\",\n",
    "        headers=headers,\n",
    "        params=params,\n",
    "        data=data,\n",
    "        stream=True,\n",
    "    )\n",
    "\n",
    "    with open(\"data/flights.csv.zip\", \"wb\") as f:\n",
    "        for chunk in r.iter_content(chunk_size=102400):\n",
    "            if chunk:\n",
    "                f.write(chunk)"
   ]
  },
  {
   "cell_type": "code",
   "execution_count": 3,
   "metadata": {
    "Collapsed": "false"
   },
   "outputs": [
    {
     "name": "stdout",
     "output_type": "stream",
     "text": [
      "<class 'pandas.core.frame.DataFrame'>\n",
      "RangeIndex: 450017 entries, 0 to 450016\n",
      "Data columns (total 33 columns):\n",
      " #   Column                 Non-Null Count   Dtype         \n",
      "---  ------                 --------------   -----         \n",
      " 0   fl_date                450017 non-null  datetime64[ns]\n",
      " 1   unique_carrier         450017 non-null  object        \n",
      " 2   airline_id             450017 non-null  int64         \n",
      " 3   tail_num               449378 non-null  object        \n",
      " 4   fl_num                 450017 non-null  int64         \n",
      " 5   origin_airport_id      450017 non-null  int64         \n",
      " 6   origin_airport_seq_id  450017 non-null  int64         \n",
      " 7   origin_city_market_id  450017 non-null  int64         \n",
      " 8   origin                 450017 non-null  object        \n",
      " 9   origin_city_name       450017 non-null  object        \n",
      " 10  dest_airport_id        450017 non-null  int64         \n",
      " 11  dest_airport_seq_id    450017 non-null  int64         \n",
      " 12  dest_city_market_id    450017 non-null  int64         \n",
      " 13  dest                   450017 non-null  object        \n",
      " 14  dest_city_name         450017 non-null  object        \n",
      " 15  crs_dep_time           450017 non-null  int64         \n",
      " 16  dep_time               441476 non-null  float64       \n",
      " 17  dep_delay              441476 non-null  float64       \n",
      " 18  taxi_out               441244 non-null  float64       \n",
      " 19  wheels_off             441244 non-null  float64       \n",
      " 20  wheels_on              440746 non-null  float64       \n",
      " 21  taxi_in                440746 non-null  float64       \n",
      " 22  crs_arr_time           450017 non-null  int64         \n",
      " 23  arr_time               440746 non-null  float64       \n",
      " 24  arr_delay              439645 non-null  float64       \n",
      " 25  cancelled              450017 non-null  float64       \n",
      " 26  cancellation_code      8886 non-null    object        \n",
      " 27  carrier_delay          97699 non-null   float64       \n",
      " 28  weather_delay          97699 non-null   float64       \n",
      " 29  nas_delay              97699 non-null   float64       \n",
      " 30  security_delay         97699 non-null   float64       \n",
      " 31  late_aircraft_delay    97699 non-null   float64       \n",
      " 32  unnamed: 32            0 non-null       float64       \n",
      "dtypes: datetime64[ns](1), float64(15), int64(10), object(7)\n",
      "memory usage: 113.3+ MB\n"
     ]
    }
   ],
   "source": [
    "zf = zipfile.ZipFile(\"data/flights.csv.zip\")\n",
    "fp = zf.extract(zf.filelist[0].filename, path=\"data/\")\n",
    "df = pd.read_csv(fp, parse_dates=[\"FL_DATE\"]).rename(columns=str.lower)\n",
    "\n",
    "df.info()"
   ]
  },
  {
   "cell_type": "markdown",
   "metadata": {
    "Collapsed": "false"
   },
   "source": [
    "## Index"
   ]
  },
  {
   "cell_type": "markdown",
   "metadata": {
    "Collapsed": "false"
   },
   "source": [
    "Two methods to get rows:\n",
    "\n",
    "1. Use `.loc` for label-based indexing\n",
    "2. Use `.iloc` for positional indexing"
   ]
  },
  {
   "cell_type": "code",
   "execution_count": 17,
   "metadata": {
    "Collapsed": "false"
   },
   "outputs": [],
   "source": [
    "first = df.groupby(\"unique_carrier\").first()"
   ]
  },
  {
   "cell_type": "code",
   "execution_count": 19,
   "metadata": {
    "Collapsed": "false"
   },
   "outputs": [
    {
     "data": {
      "text/html": [
       "<div>\n",
       "<style scoped>\n",
       "    .dataframe tbody tr th:only-of-type {\n",
       "        vertical-align: middle;\n",
       "    }\n",
       "\n",
       "    .dataframe tbody tr th {\n",
       "        vertical-align: top;\n",
       "    }\n",
       "\n",
       "    .dataframe thead th {\n",
       "        text-align: right;\n",
       "    }\n",
       "</style>\n",
       "<table border=\"1\" class=\"dataframe\">\n",
       "  <thead>\n",
       "    <tr style=\"text-align: right;\">\n",
       "      <th></th>\n",
       "      <th>fl_date</th>\n",
       "      <th>tail_num</th>\n",
       "    </tr>\n",
       "    <tr>\n",
       "      <th>unique_carrier</th>\n",
       "      <th></th>\n",
       "      <th></th>\n",
       "    </tr>\n",
       "  </thead>\n",
       "  <tbody>\n",
       "    <tr>\n",
       "      <th>AA</th>\n",
       "      <td>2017-01-01</td>\n",
       "      <td>N3GNAA</td>\n",
       "    </tr>\n",
       "    <tr>\n",
       "      <th>AS</th>\n",
       "      <td>2017-01-01</td>\n",
       "      <td>N303AS</td>\n",
       "    </tr>\n",
       "    <tr>\n",
       "      <th>DL</th>\n",
       "      <td>2017-01-01</td>\n",
       "      <td>N942DL</td>\n",
       "    </tr>\n",
       "  </tbody>\n",
       "</table>\n",
       "</div>"
      ],
      "text/plain": [
       "                  fl_date tail_num\n",
       "unique_carrier                    \n",
       "AA             2017-01-01   N3GNAA\n",
       "AS             2017-01-01   N303AS\n",
       "DL             2017-01-01   N942DL"
      ]
     },
     "execution_count": 19,
     "metadata": {},
     "output_type": "execute_result"
    }
   ],
   "source": [
    "first.loc[[\"AA\", \"AS\", \"DL\"], [\"fl_date\", \"tail_num\"]]"
   ]
  },
  {
   "cell_type": "code",
   "execution_count": 20,
   "metadata": {
    "Collapsed": "false"
   },
   "outputs": [
    {
     "data": {
      "text/html": [
       "<div>\n",
       "<style scoped>\n",
       "    .dataframe tbody tr th:only-of-type {\n",
       "        vertical-align: middle;\n",
       "    }\n",
       "\n",
       "    .dataframe tbody tr th {\n",
       "        vertical-align: top;\n",
       "    }\n",
       "\n",
       "    .dataframe thead th {\n",
       "        text-align: right;\n",
       "    }\n",
       "</style>\n",
       "<table border=\"1\" class=\"dataframe\">\n",
       "  <thead>\n",
       "    <tr style=\"text-align: right;\">\n",
       "      <th></th>\n",
       "      <th>fl_date</th>\n",
       "      <th>airline_id</th>\n",
       "    </tr>\n",
       "    <tr>\n",
       "      <th>unique_carrier</th>\n",
       "      <th></th>\n",
       "      <th></th>\n",
       "    </tr>\n",
       "  </thead>\n",
       "  <tbody>\n",
       "    <tr>\n",
       "      <th>AA</th>\n",
       "      <td>2017-01-01</td>\n",
       "      <td>19805</td>\n",
       "    </tr>\n",
       "    <tr>\n",
       "      <th>AS</th>\n",
       "      <td>2017-01-01</td>\n",
       "      <td>19930</td>\n",
       "    </tr>\n",
       "    <tr>\n",
       "      <th>DL</th>\n",
       "      <td>2017-01-01</td>\n",
       "      <td>19790</td>\n",
       "    </tr>\n",
       "  </tbody>\n",
       "</table>\n",
       "</div>"
      ],
      "text/plain": [
       "                  fl_date  airline_id\n",
       "unique_carrier                       \n",
       "AA             2017-01-01       19805\n",
       "AS             2017-01-01       19930\n",
       "DL             2017-01-01       19790"
      ]
     },
     "execution_count": 20,
     "metadata": {},
     "output_type": "execute_result"
    }
   ],
   "source": [
    "first.iloc[[0, 1, 3], [0, 1]]"
   ]
  },
  {
   "cell_type": "markdown",
   "metadata": {
    "Collapsed": "false"
   },
   "source": [
    "## SettingWithCopy"
   ]
  },
  {
   "cell_type": "markdown",
   "metadata": {
    "Collapsed": "false"
   },
   "source": [
    "Do not let the ends of two square brackets touch `][`. This does _not_ result in an an assignment to column `\"b\"`:\n",
    "\n",
    "```python\n",
    "# This is bad, do not do\n",
    "f[f[\"a\"] <= 3][\"b\"] = f[f[\"a\"] <= 3][\"b\"] / 10\n",
    "```"
   ]
  },
  {
   "cell_type": "code",
   "execution_count": 23,
   "metadata": {
    "Collapsed": "false"
   },
   "outputs": [
    {
     "data": {
      "text/html": [
       "<div>\n",
       "<style scoped>\n",
       "    .dataframe tbody tr th:only-of-type {\n",
       "        vertical-align: middle;\n",
       "    }\n",
       "\n",
       "    .dataframe tbody tr th {\n",
       "        vertical-align: top;\n",
       "    }\n",
       "\n",
       "    .dataframe thead th {\n",
       "        text-align: right;\n",
       "    }\n",
       "</style>\n",
       "<table border=\"1\" class=\"dataframe\">\n",
       "  <thead>\n",
       "    <tr style=\"text-align: right;\">\n",
       "      <th></th>\n",
       "      <th>a</th>\n",
       "      <th>b</th>\n",
       "    </tr>\n",
       "  </thead>\n",
       "  <tbody>\n",
       "    <tr>\n",
       "      <th>0</th>\n",
       "      <td>1</td>\n",
       "      <td>1.0</td>\n",
       "    </tr>\n",
       "    <tr>\n",
       "      <th>1</th>\n",
       "      <td>2</td>\n",
       "      <td>2.0</td>\n",
       "    </tr>\n",
       "    <tr>\n",
       "      <th>2</th>\n",
       "      <td>3</td>\n",
       "      <td>3.0</td>\n",
       "    </tr>\n",
       "    <tr>\n",
       "      <th>3</th>\n",
       "      <td>4</td>\n",
       "      <td>40.0</td>\n",
       "    </tr>\n",
       "    <tr>\n",
       "      <th>4</th>\n",
       "      <td>5</td>\n",
       "      <td>50.0</td>\n",
       "    </tr>\n",
       "  </tbody>\n",
       "</table>\n",
       "</div>"
      ],
      "text/plain": [
       "   a     b\n",
       "0  1   1.0\n",
       "1  2   2.0\n",
       "2  3   3.0\n",
       "3  4  40.0\n",
       "4  5  50.0"
      ]
     },
     "execution_count": 23,
     "metadata": {},
     "output_type": "execute_result"
    }
   ],
   "source": [
    "# Correct way\n",
    "f = pd.DataFrame({\"a\": [1, 2, 3, 4, 5], \"b\": [10, 20, 30, 40, 50]})\n",
    "f.loc[f[\"a\"] <= 3, \"b\"] = f.loc[f[\"a\"] <= 3, \"b\"] / 10\n",
    "f"
   ]
  },
  {
   "cell_type": "markdown",
   "metadata": {
    "Collapsed": "false"
   },
   "source": [
    "## Multidimensional indexing"
   ]
  },
  {
   "cell_type": "markdown",
   "metadata": {
    "Collapsed": "false"
   },
   "source": [
    "<div class=\"alert alert-block alert-info\">\n",
    "    <b>Techniques of note</b>\n",
    "    <br><br>\n",
    "    <li><b><code>pd.IndexSlice</code></b> for easy slicing of MultiIndexes</li>\n",
    "</div>"
   ]
  },
  {
   "cell_type": "code",
   "execution_count": 24,
   "metadata": {
    "Collapsed": "false"
   },
   "outputs": [
    {
     "data": {
      "text/html": [
       "<div>\n",
       "<style scoped>\n",
       "    .dataframe tbody tr th:only-of-type {\n",
       "        vertical-align: middle;\n",
       "    }\n",
       "\n",
       "    .dataframe tbody tr th {\n",
       "        vertical-align: top;\n",
       "    }\n",
       "\n",
       "    .dataframe thead th {\n",
       "        text-align: right;\n",
       "    }\n",
       "</style>\n",
       "<table border=\"1\" class=\"dataframe\">\n",
       "  <thead>\n",
       "    <tr style=\"text-align: right;\">\n",
       "      <th></th>\n",
       "      <th></th>\n",
       "      <th></th>\n",
       "      <th></th>\n",
       "      <th></th>\n",
       "      <th>airline_id</th>\n",
       "      <th>fl_num</th>\n",
       "      <th>origin_airport_id</th>\n",
       "      <th>origin_airport_seq_id</th>\n",
       "    </tr>\n",
       "    <tr>\n",
       "      <th>unique_carrier</th>\n",
       "      <th>origin</th>\n",
       "      <th>dest</th>\n",
       "      <th>tail_num</th>\n",
       "      <th>fl_date</th>\n",
       "      <th></th>\n",
       "      <th></th>\n",
       "      <th></th>\n",
       "      <th></th>\n",
       "    </tr>\n",
       "  </thead>\n",
       "  <tbody>\n",
       "    <tr>\n",
       "      <th rowspan=\"5\" valign=\"top\">AA</th>\n",
       "      <th rowspan=\"5\" valign=\"top\">ABQ</th>\n",
       "      <th rowspan=\"5\" valign=\"top\">DFW</th>\n",
       "      <th rowspan=\"2\" valign=\"top\">N3ABAA</th>\n",
       "      <th>2017-01-15</th>\n",
       "      <td>19805</td>\n",
       "      <td>2611</td>\n",
       "      <td>10140</td>\n",
       "      <td>1014003</td>\n",
       "    </tr>\n",
       "    <tr>\n",
       "      <th>2017-01-29</th>\n",
       "      <td>19805</td>\n",
       "      <td>1282</td>\n",
       "      <td>10140</td>\n",
       "      <td>1014003</td>\n",
       "    </tr>\n",
       "    <tr>\n",
       "      <th>N3AEAA</th>\n",
       "      <th>2017-01-11</th>\n",
       "      <td>19805</td>\n",
       "      <td>2511</td>\n",
       "      <td>10140</td>\n",
       "      <td>1014003</td>\n",
       "    </tr>\n",
       "    <tr>\n",
       "      <th>N3AJAA</th>\n",
       "      <th>2017-01-24</th>\n",
       "      <td>19805</td>\n",
       "      <td>2511</td>\n",
       "      <td>10140</td>\n",
       "      <td>1014003</td>\n",
       "    </tr>\n",
       "    <tr>\n",
       "      <th>N3AVAA</th>\n",
       "      <th>2017-01-11</th>\n",
       "      <td>19805</td>\n",
       "      <td>1282</td>\n",
       "      <td>10140</td>\n",
       "      <td>1014003</td>\n",
       "    </tr>\n",
       "  </tbody>\n",
       "</table>\n",
       "</div>"
      ],
      "text/plain": [
       "                                                airline_id  fl_num  \\\n",
       "unique_carrier origin dest tail_num fl_date                          \n",
       "AA             ABQ    DFW  N3ABAA   2017-01-15       19805    2611   \n",
       "                                    2017-01-29       19805    1282   \n",
       "                           N3AEAA   2017-01-11       19805    2511   \n",
       "                           N3AJAA   2017-01-24       19805    2511   \n",
       "                           N3AVAA   2017-01-11       19805    1282   \n",
       "\n",
       "                                                origin_airport_id  \\\n",
       "unique_carrier origin dest tail_num fl_date                         \n",
       "AA             ABQ    DFW  N3ABAA   2017-01-15              10140   \n",
       "                                    2017-01-29              10140   \n",
       "                           N3AEAA   2017-01-11              10140   \n",
       "                           N3AJAA   2017-01-24              10140   \n",
       "                           N3AVAA   2017-01-11              10140   \n",
       "\n",
       "                                                origin_airport_seq_id  \n",
       "unique_carrier origin dest tail_num fl_date                            \n",
       "AA             ABQ    DFW  N3ABAA   2017-01-15                1014003  \n",
       "                                    2017-01-29                1014003  \n",
       "                           N3AEAA   2017-01-11                1014003  \n",
       "                           N3AJAA   2017-01-24                1014003  \n",
       "                           N3AVAA   2017-01-11                1014003  "
      ]
     },
     "execution_count": 24,
     "metadata": {},
     "output_type": "execute_result"
    }
   ],
   "source": [
    "hdf = df.set_index(\n",
    "    [\"unique_carrier\", \"origin\", \"dest\", \"tail_num\", \"fl_date\"]\n",
    ").sort_index()\n",
    "hdf[hdf.columns[:4]].head()"
   ]
  },
  {
   "cell_type": "markdown",
   "metadata": {
    "Collapsed": "false"
   },
   "source": [
    "Selecting outermost index"
   ]
  },
  {
   "cell_type": "code",
   "execution_count": 25,
   "metadata": {
    "Collapsed": "false"
   },
   "outputs": [
    {
     "data": {
      "text/html": [
       "<div>\n",
       "<style scoped>\n",
       "    .dataframe tbody tr th:only-of-type {\n",
       "        vertical-align: middle;\n",
       "    }\n",
       "\n",
       "    .dataframe tbody tr th {\n",
       "        vertical-align: top;\n",
       "    }\n",
       "\n",
       "    .dataframe thead th {\n",
       "        text-align: right;\n",
       "    }\n",
       "</style>\n",
       "<table border=\"1\" class=\"dataframe\">\n",
       "  <thead>\n",
       "    <tr style=\"text-align: right;\">\n",
       "      <th></th>\n",
       "      <th></th>\n",
       "      <th></th>\n",
       "      <th></th>\n",
       "      <th></th>\n",
       "      <th>dep_time</th>\n",
       "      <th>dep_delay</th>\n",
       "    </tr>\n",
       "    <tr>\n",
       "      <th>unique_carrier</th>\n",
       "      <th>origin</th>\n",
       "      <th>dest</th>\n",
       "      <th>tail_num</th>\n",
       "      <th>fl_date</th>\n",
       "      <th></th>\n",
       "      <th></th>\n",
       "    </tr>\n",
       "  </thead>\n",
       "  <tbody>\n",
       "    <tr>\n",
       "      <th rowspan=\"5\" valign=\"top\">AA</th>\n",
       "      <th rowspan=\"5\" valign=\"top\">ABQ</th>\n",
       "      <th rowspan=\"5\" valign=\"top\">DFW</th>\n",
       "      <th rowspan=\"2\" valign=\"top\">N3ABAA</th>\n",
       "      <th>2017-01-15</th>\n",
       "      <td>500.0</td>\n",
       "      <td>0.0</td>\n",
       "    </tr>\n",
       "    <tr>\n",
       "      <th>2017-01-29</th>\n",
       "      <td>757.0</td>\n",
       "      <td>-3.0</td>\n",
       "    </tr>\n",
       "    <tr>\n",
       "      <th>N3AEAA</th>\n",
       "      <th>2017-01-11</th>\n",
       "      <td>1451.0</td>\n",
       "      <td>-9.0</td>\n",
       "    </tr>\n",
       "    <tr>\n",
       "      <th>N3AJAA</th>\n",
       "      <th>2017-01-24</th>\n",
       "      <td>1502.0</td>\n",
       "      <td>2.0</td>\n",
       "    </tr>\n",
       "    <tr>\n",
       "      <th>N3AVAA</th>\n",
       "      <th>2017-01-11</th>\n",
       "      <td>752.0</td>\n",
       "      <td>-8.0</td>\n",
       "    </tr>\n",
       "    <tr>\n",
       "      <th>...</th>\n",
       "      <th>...</th>\n",
       "      <th>...</th>\n",
       "      <th>...</th>\n",
       "      <th>...</th>\n",
       "      <td>...</td>\n",
       "      <td>...</td>\n",
       "    </tr>\n",
       "    <tr>\n",
       "      <th rowspan=\"5\" valign=\"top\">DL</th>\n",
       "      <th rowspan=\"5\" valign=\"top\">XNA</th>\n",
       "      <th rowspan=\"5\" valign=\"top\">ATL</th>\n",
       "      <th>N983AT</th>\n",
       "      <th>2017-01-11</th>\n",
       "      <td>1148.0</td>\n",
       "      <td>-11.0</td>\n",
       "    </tr>\n",
       "    <tr>\n",
       "      <th>N988DL</th>\n",
       "      <th>2017-01-26</th>\n",
       "      <td>556.0</td>\n",
       "      <td>-4.0</td>\n",
       "    </tr>\n",
       "    <tr>\n",
       "      <th>N989DL</th>\n",
       "      <th>2017-01-25</th>\n",
       "      <td>555.0</td>\n",
       "      <td>-5.0</td>\n",
       "    </tr>\n",
       "    <tr>\n",
       "      <th>N990DL</th>\n",
       "      <th>2017-01-15</th>\n",
       "      <td>604.0</td>\n",
       "      <td>-1.0</td>\n",
       "    </tr>\n",
       "    <tr>\n",
       "      <th>N995AT</th>\n",
       "      <th>2017-01-16</th>\n",
       "      <td>1152.0</td>\n",
       "      <td>-7.0</td>\n",
       "    </tr>\n",
       "  </tbody>\n",
       "</table>\n",
       "<p>142945 rows × 2 columns</p>\n",
       "</div>"
      ],
      "text/plain": [
       "                                                dep_time  dep_delay\n",
       "unique_carrier origin dest tail_num fl_date                        \n",
       "AA             ABQ    DFW  N3ABAA   2017-01-15     500.0        0.0\n",
       "                                    2017-01-29     757.0       -3.0\n",
       "                           N3AEAA   2017-01-11    1451.0       -9.0\n",
       "                           N3AJAA   2017-01-24    1502.0        2.0\n",
       "                           N3AVAA   2017-01-11     752.0       -8.0\n",
       "...                                                  ...        ...\n",
       "DL             XNA    ATL  N983AT   2017-01-11    1148.0      -11.0\n",
       "                           N988DL   2017-01-26     556.0       -4.0\n",
       "                           N989DL   2017-01-25     555.0       -5.0\n",
       "                           N990DL   2017-01-15     604.0       -1.0\n",
       "                           N995AT   2017-01-16    1152.0       -7.0\n",
       "\n",
       "[142945 rows x 2 columns]"
      ]
     },
     "execution_count": 25,
     "metadata": {},
     "output_type": "execute_result"
    }
   ],
   "source": [
    "hdf.loc[[\"AA\", \"DL\", \"US\"], [\"dep_time\", \"dep_delay\"]]"
   ]
  },
  {
   "cell_type": "markdown",
   "metadata": {
    "Collapsed": "false"
   },
   "source": [
    "Selecting first two using a tuple `()`."
   ]
  },
  {
   "cell_type": "code",
   "execution_count": 26,
   "metadata": {
    "Collapsed": "false"
   },
   "outputs": [
    {
     "data": {
      "text/html": [
       "<div>\n",
       "<style scoped>\n",
       "    .dataframe tbody tr th:only-of-type {\n",
       "        vertical-align: middle;\n",
       "    }\n",
       "\n",
       "    .dataframe tbody tr th {\n",
       "        vertical-align: top;\n",
       "    }\n",
       "\n",
       "    .dataframe thead th {\n",
       "        text-align: right;\n",
       "    }\n",
       "</style>\n",
       "<table border=\"1\" class=\"dataframe\">\n",
       "  <thead>\n",
       "    <tr style=\"text-align: right;\">\n",
       "      <th></th>\n",
       "      <th></th>\n",
       "      <th></th>\n",
       "      <th></th>\n",
       "      <th></th>\n",
       "      <th>dep_time</th>\n",
       "      <th>dep_delay</th>\n",
       "    </tr>\n",
       "    <tr>\n",
       "      <th>unique_carrier</th>\n",
       "      <th>origin</th>\n",
       "      <th>dest</th>\n",
       "      <th>tail_num</th>\n",
       "      <th>fl_date</th>\n",
       "      <th></th>\n",
       "      <th></th>\n",
       "    </tr>\n",
       "  </thead>\n",
       "  <tbody>\n",
       "    <tr>\n",
       "      <th rowspan=\"5\" valign=\"top\">AA</th>\n",
       "      <th rowspan=\"5\" valign=\"top\">DSM</th>\n",
       "      <th rowspan=\"5\" valign=\"top\">DFW</th>\n",
       "      <th>N424AA</th>\n",
       "      <th>2017-01-23</th>\n",
       "      <td>1324.0</td>\n",
       "      <td>-3.0</td>\n",
       "    </tr>\n",
       "    <tr>\n",
       "      <th>N426AA</th>\n",
       "      <th>2017-01-25</th>\n",
       "      <td>541.0</td>\n",
       "      <td>-9.0</td>\n",
       "    </tr>\n",
       "    <tr>\n",
       "      <th rowspan=\"2\" valign=\"top\">N437AA</th>\n",
       "      <th>2017-01-13</th>\n",
       "      <td>542.0</td>\n",
       "      <td>-8.0</td>\n",
       "    </tr>\n",
       "    <tr>\n",
       "      <th>2017-01-23</th>\n",
       "      <td>544.0</td>\n",
       "      <td>-6.0</td>\n",
       "    </tr>\n",
       "    <tr>\n",
       "      <th>N438AA</th>\n",
       "      <th>2017-01-11</th>\n",
       "      <td>542.0</td>\n",
       "      <td>-8.0</td>\n",
       "    </tr>\n",
       "    <tr>\n",
       "      <th>...</th>\n",
       "      <th>...</th>\n",
       "      <th>...</th>\n",
       "      <th>...</th>\n",
       "      <th>...</th>\n",
       "      <td>...</td>\n",
       "      <td>...</td>\n",
       "    </tr>\n",
       "    <tr>\n",
       "      <th rowspan=\"5\" valign=\"top\">DL</th>\n",
       "      <th rowspan=\"5\" valign=\"top\">ORD</th>\n",
       "      <th rowspan=\"5\" valign=\"top\">SLC</th>\n",
       "      <th>N365NB</th>\n",
       "      <th>2017-01-18</th>\n",
       "      <td>1350.0</td>\n",
       "      <td>12.0</td>\n",
       "    </tr>\n",
       "    <tr>\n",
       "      <th>N368NB</th>\n",
       "      <th>2017-01-27</th>\n",
       "      <td>1351.0</td>\n",
       "      <td>13.0</td>\n",
       "    </tr>\n",
       "    <tr>\n",
       "      <th>N370NB</th>\n",
       "      <th>2017-01-20</th>\n",
       "      <td>1355.0</td>\n",
       "      <td>17.0</td>\n",
       "    </tr>\n",
       "    <tr>\n",
       "      <th>N374NW</th>\n",
       "      <th>2017-01-03</th>\n",
       "      <td>1846.0</td>\n",
       "      <td>-1.0</td>\n",
       "    </tr>\n",
       "    <tr>\n",
       "      <th>N987AT</th>\n",
       "      <th>2017-01-08</th>\n",
       "      <td>1914.0</td>\n",
       "      <td>29.0</td>\n",
       "    </tr>\n",
       "  </tbody>\n",
       "</table>\n",
       "<p>5582 rows × 2 columns</p>\n",
       "</div>"
      ],
      "text/plain": [
       "                                                dep_time  dep_delay\n",
       "unique_carrier origin dest tail_num fl_date                        \n",
       "AA             DSM    DFW  N424AA   2017-01-23    1324.0       -3.0\n",
       "                           N426AA   2017-01-25     541.0       -9.0\n",
       "                           N437AA   2017-01-13     542.0       -8.0\n",
       "                                    2017-01-23     544.0       -6.0\n",
       "                           N438AA   2017-01-11     542.0       -8.0\n",
       "...                                                  ...        ...\n",
       "DL             ORD    SLC  N365NB   2017-01-18    1350.0       12.0\n",
       "                           N368NB   2017-01-27    1351.0       13.0\n",
       "                           N370NB   2017-01-20    1355.0       17.0\n",
       "                           N374NW   2017-01-03    1846.0       -1.0\n",
       "                           N987AT   2017-01-08    1914.0       29.0\n",
       "\n",
       "[5582 rows x 2 columns]"
      ]
     },
     "execution_count": 26,
     "metadata": {},
     "output_type": "execute_result"
    }
   ],
   "source": [
    "hdf.loc[([\"AA\", \"DL\", \"US\"], [\"ORD\", \"DSM\"]), [\"dep_time\", \"dep_delay\"]]"
   ]
  },
  {
   "cell_type": "markdown",
   "metadata": {
    "Collapsed": "false"
   },
   "source": [
    "Selecting only second index using `pd.IndexSlice`."
   ]
  },
  {
   "cell_type": "code",
   "execution_count": 27,
   "metadata": {
    "Collapsed": "false"
   },
   "outputs": [
    {
     "data": {
      "text/html": [
       "<div>\n",
       "<style scoped>\n",
       "    .dataframe tbody tr th:only-of-type {\n",
       "        vertical-align: middle;\n",
       "    }\n",
       "\n",
       "    .dataframe tbody tr th {\n",
       "        vertical-align: top;\n",
       "    }\n",
       "\n",
       "    .dataframe thead th {\n",
       "        text-align: right;\n",
       "    }\n",
       "</style>\n",
       "<table border=\"1\" class=\"dataframe\">\n",
       "  <thead>\n",
       "    <tr style=\"text-align: right;\">\n",
       "      <th></th>\n",
       "      <th></th>\n",
       "      <th></th>\n",
       "      <th></th>\n",
       "      <th></th>\n",
       "      <th>dep_time</th>\n",
       "      <th>dep_delay</th>\n",
       "    </tr>\n",
       "    <tr>\n",
       "      <th>unique_carrier</th>\n",
       "      <th>origin</th>\n",
       "      <th>dest</th>\n",
       "      <th>tail_num</th>\n",
       "      <th>fl_date</th>\n",
       "      <th></th>\n",
       "      <th></th>\n",
       "    </tr>\n",
       "  </thead>\n",
       "  <tbody>\n",
       "    <tr>\n",
       "      <th rowspan=\"5\" valign=\"top\">AA</th>\n",
       "      <th rowspan=\"5\" valign=\"top\">DSM</th>\n",
       "      <th rowspan=\"5\" valign=\"top\">DFW</th>\n",
       "      <th>N424AA</th>\n",
       "      <th>2017-01-23</th>\n",
       "      <td>1324.0</td>\n",
       "      <td>-3.0</td>\n",
       "    </tr>\n",
       "    <tr>\n",
       "      <th>N426AA</th>\n",
       "      <th>2017-01-25</th>\n",
       "      <td>541.0</td>\n",
       "      <td>-9.0</td>\n",
       "    </tr>\n",
       "    <tr>\n",
       "      <th rowspan=\"2\" valign=\"top\">N437AA</th>\n",
       "      <th>2017-01-13</th>\n",
       "      <td>542.0</td>\n",
       "      <td>-8.0</td>\n",
       "    </tr>\n",
       "    <tr>\n",
       "      <th>2017-01-23</th>\n",
       "      <td>544.0</td>\n",
       "      <td>-6.0</td>\n",
       "    </tr>\n",
       "    <tr>\n",
       "      <th>N438AA</th>\n",
       "      <th>2017-01-11</th>\n",
       "      <td>542.0</td>\n",
       "      <td>-8.0</td>\n",
       "    </tr>\n",
       "    <tr>\n",
       "      <th>...</th>\n",
       "      <th>...</th>\n",
       "      <th>...</th>\n",
       "      <th>...</th>\n",
       "      <th>...</th>\n",
       "      <td>...</td>\n",
       "      <td>...</td>\n",
       "    </tr>\n",
       "    <tr>\n",
       "      <th rowspan=\"5\" valign=\"top\">WN</th>\n",
       "      <th rowspan=\"5\" valign=\"top\">DSM</th>\n",
       "      <th rowspan=\"5\" valign=\"top\">STL</th>\n",
       "      <th>N952WN</th>\n",
       "      <th>2017-01-29</th>\n",
       "      <td>854.0</td>\n",
       "      <td>-6.0</td>\n",
       "    </tr>\n",
       "    <tr>\n",
       "      <th>N954WN</th>\n",
       "      <th>2017-01-11</th>\n",
       "      <td>1736.0</td>\n",
       "      <td>-9.0</td>\n",
       "    </tr>\n",
       "    <tr>\n",
       "      <th>N956WN</th>\n",
       "      <th>2017-01-06</th>\n",
       "      <td>1736.0</td>\n",
       "      <td>-9.0</td>\n",
       "    </tr>\n",
       "    <tr>\n",
       "      <th rowspan=\"2\" valign=\"top\">NaN</th>\n",
       "      <th>2017-01-16</th>\n",
       "      <td>NaN</td>\n",
       "      <td>NaN</td>\n",
       "    </tr>\n",
       "    <tr>\n",
       "      <th>2017-01-17</th>\n",
       "      <td>NaN</td>\n",
       "      <td>NaN</td>\n",
       "    </tr>\n",
       "  </tbody>\n",
       "</table>\n",
       "<p>19466 rows × 2 columns</p>\n",
       "</div>"
      ],
      "text/plain": [
       "                                                dep_time  dep_delay\n",
       "unique_carrier origin dest tail_num fl_date                        \n",
       "AA             DSM    DFW  N424AA   2017-01-23    1324.0       -3.0\n",
       "                           N426AA   2017-01-25     541.0       -9.0\n",
       "                           N437AA   2017-01-13     542.0       -8.0\n",
       "                                    2017-01-23     544.0       -6.0\n",
       "                           N438AA   2017-01-11     542.0       -8.0\n",
       "...                                                  ...        ...\n",
       "WN             DSM    STL  N952WN   2017-01-29     854.0       -6.0\n",
       "                           N954WN   2017-01-11    1736.0       -9.0\n",
       "                           N956WN   2017-01-06    1736.0       -9.0\n",
       "                           NaN      2017-01-16       NaN        NaN\n",
       "                                    2017-01-17       NaN        NaN\n",
       "\n",
       "[19466 rows x 2 columns]"
      ]
     },
     "execution_count": 27,
     "metadata": {},
     "output_type": "execute_result"
    }
   ],
   "source": [
    "hdf.loc[pd.IndexSlice[:, [\"ORD\", \"DSM\"]], [\"dep_time\", \"dep_delay\"]]"
   ]
  },
  {
   "cell_type": "code",
   "execution_count": 28,
   "metadata": {
    "Collapsed": "false"
   },
   "outputs": [
    {
     "data": {
      "text/plain": [
       "(slice(None, None, None), ['ORD', 'DSM'])"
      ]
     },
     "execution_count": 28,
     "metadata": {},
     "output_type": "execute_result"
    }
   ],
   "source": [
    "pd.IndexSlice[:, ['ORD', 'DSM']]"
   ]
  },
  {
   "cell_type": "code",
   "execution_count": null,
   "metadata": {
    "Collapsed": "false"
   },
   "outputs": [],
   "source": []
  }
 ],
 "metadata": {
  "jupytext": {
   "encoding": "# -*- coding: utf-8 -*-",
   "formats": "ipynb,py:percent,md"
  },
  "kernelspec": {
   "display_name": "modern-pandas",
   "language": "python",
   "name": "modern-pandas"
  },
  "language_info": {
   "codemirror_mode": {
    "name": "ipython",
    "version": 3
   },
   "file_extension": ".py",
   "mimetype": "text/x-python",
   "name": "python",
   "nbconvert_exporter": "python",
   "pygments_lexer": "ipython3",
   "version": "3.8.2"
  }
 },
 "nbformat": 4,
 "nbformat_minor": 4
}
