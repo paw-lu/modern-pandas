{
 "cells": [
  {
   "cell_type": "markdown",
   "metadata": {
    "Collapsed": "false"
   },
   "source": [
    "# 4. Performance"
   ]
  },
  {
   "cell_type": "markdown",
   "metadata": {
    "Collapsed": "false"
   },
   "source": [
    "## Imports"
   ]
  },
  {
   "cell_type": "code",
   "execution_count": 3,
   "metadata": {
    "Collapsed": "false"
   },
   "outputs": [],
   "source": [
    "%matplotlib inline\n",
    "\n",
    "import glob\n",
    "import os\n",
    "\n",
    "import numpy as np\n",
    "import pandas as pd\n",
    "\n",
    "import matplotlib.pyplot as plt\n",
    "import seaborn as sns\n",
    "\n",
    "if int(os.environ.get(\"MODERN_PANDAS_EPUB\", 0)):\n",
    "    import prep  # noqa\n",
    "\n",
    "sns.set_style(\"ticks\")\n",
    "sns.set_context(\"talk\")\n",
    "pd.options.display.max_rows = 10"
   ]
  },
  {
   "cell_type": "markdown",
   "metadata": {
    "Collapsed": "true"
   },
   "source": [
    "## Constructors"
   ]
  },
  {
   "cell_type": "markdown",
   "metadata": {
    "Collapsed": "false"
   },
   "source": [
    "When combining many data sources—such as CDs—you can either:\n",
    "\n",
    "1. Initialize one DataFrame and append to it\n",
    "2. Make many small DataFrames and concatenate at the end\n",
    "\n",
    "Second method is faster."
   ]
  },
  {
   "cell_type": "code",
   "execution_count": 23,
   "metadata": {
    "Collapsed": "false"
   },
   "outputs": [],
   "source": [
    "# Python (bad) way\n",
    "files = glob.glob(\"data/weather/*.csv\")\n",
    "columns = [\n",
    "    \"station\",\n",
    "    \"date\",\n",
    "    \"tmpf\",\n",
    "    \"relh\",\n",
    "    \"sped\",\n",
    "    \"mslp\",\n",
    "    \"p01i\",\n",
    "    \"vsby\",\n",
    "    \"gust_mph\",\n",
    "    \"skyc1\",\n",
    "    \"skyc2\",\n",
    "    \"skyc3\",\n",
    "]\n",
    "# init empty DataFrame, like you might for a list\n",
    "weather = pd.DataFrame(columns=columns)\n",
    "for fp in files:\n",
    "    city = pd.read_csv(fp, usecols=columns)\n",
    "    weather = weather.append(city)"
   ]
  },
  {
   "cell_type": "code",
   "execution_count": 32,
   "metadata": {
    "Collapsed": "false"
   },
   "outputs": [],
   "source": [
    "# Pandas (good) way\n",
    "files = glob.glob(\"data/weather/*.csv\")\n",
    "weather_dfs = [pd.read_csv(fp, names=columns, header=0) for fp in files]\n",
    "weather = pd.concat(weather_dfs)"
   ]
  },
  {
   "cell_type": "markdown",
   "metadata": {
    "Collapsed": "false"
   },
   "source": [
    "Can compare two different ways of building a DataFrame—`append_df` and `concat_df`."
   ]
  },
  {
   "cell_type": "code",
   "execution_count": 35,
   "metadata": {
    "Collapsed": "false"
   },
   "outputs": [],
   "source": [
    "import time\n",
    "\n",
    "size_per = 5000\n",
    "N = 100\n",
    "cols = list(\"abcd\")\n",
    "\n",
    "\n",
    "def timed(n=30):\n",
    "    \"\"\"\n",
    "    Running a microbenchmark. Never use this.\n",
    "    \"\"\"\n",
    "\n",
    "    def deco(func):\n",
    "        def wrapper(*args, **kwargs):\n",
    "            timings = []\n",
    "            for i in range(n):\n",
    "                t0 = time.time()\n",
    "                func(*args, **kwargs)\n",
    "                t1 = time.time()\n",
    "                timings.append(t1 - t0)\n",
    "            return timings\n",
    "\n",
    "        return wrapper\n",
    "\n",
    "    return deco\n",
    "\n",
    "\n",
    "@timed(60)\n",
    "def append_df():\n",
    "    \"\"\"\n",
    "    The pythonic (bad) way\n",
    "    \"\"\"\n",
    "    df = pd.DataFrame(columns=cols)\n",
    "    for _ in range(N):\n",
    "        df.append(pd.DataFrame(np.random.randn(size_per, 4), columns=cols))\n",
    "    return df\n",
    "\n",
    "\n",
    "@timed(60)\n",
    "def concat_df():\n",
    "    \"\"\"\n",
    "    The pandorabe (good) way\n",
    "    \"\"\"\n",
    "    dfs = [pd.DataFrame(np.random.randn(size_per, 4), columns=cols) for _ in range(N)]\n",
    "    return pd.concat(dfs, ignore_index=True)"
   ]
  },
  {
   "cell_type": "code",
   "execution_count": 36,
   "metadata": {
    "Collapsed": "false"
   },
   "outputs": [
    {
     "data": {
      "text/html": [
       "<div>\n",
       "<style scoped>\n",
       "    .dataframe tbody tr th:only-of-type {\n",
       "        vertical-align: middle;\n",
       "    }\n",
       "\n",
       "    .dataframe tbody tr th {\n",
       "        vertical-align: top;\n",
       "    }\n",
       "\n",
       "    .dataframe thead th {\n",
       "        text-align: right;\n",
       "    }\n",
       "</style>\n",
       "<table border=\"1\" class=\"dataframe\">\n",
       "  <thead>\n",
       "    <tr style=\"text-align: right;\">\n",
       "      <th></th>\n",
       "      <th>level_0</th>\n",
       "      <th>Method</th>\n",
       "      <th>Time (s)</th>\n",
       "    </tr>\n",
       "  </thead>\n",
       "  <tbody>\n",
       "    <tr>\n",
       "      <th>0</th>\n",
       "      <td>0</td>\n",
       "      <td>Append</td>\n",
       "      <td>0.183432</td>\n",
       "    </tr>\n",
       "    <tr>\n",
       "      <th>1</th>\n",
       "      <td>0</td>\n",
       "      <td>Concat</td>\n",
       "      <td>0.112763</td>\n",
       "    </tr>\n",
       "    <tr>\n",
       "      <th>2</th>\n",
       "      <td>1</td>\n",
       "      <td>Append</td>\n",
       "      <td>0.155029</td>\n",
       "    </tr>\n",
       "    <tr>\n",
       "      <th>3</th>\n",
       "      <td>1</td>\n",
       "      <td>Concat</td>\n",
       "      <td>0.098710</td>\n",
       "    </tr>\n",
       "    <tr>\n",
       "      <th>4</th>\n",
       "      <td>2</td>\n",
       "      <td>Append</td>\n",
       "      <td>0.155059</td>\n",
       "    </tr>\n",
       "  </tbody>\n",
       "</table>\n",
       "</div>"
      ],
      "text/plain": [
       "   level_0  Method  Time (s)\n",
       "0        0  Append  0.183432\n",
       "1        0  Concat  0.112763\n",
       "2        1  Append  0.155029\n",
       "3        1  Concat  0.098710\n",
       "4        2  Append  0.155059"
      ]
     },
     "execution_count": 36,
     "metadata": {},
     "output_type": "execute_result"
    }
   ],
   "source": [
    "t_append = append_df()\n",
    "t_concat = concat_df()\n",
    "\n",
    "timings = (\n",
    "    pd.DataFrame({\"Append\": t_append, \"Concat\": t_concat})\n",
    "    .stack()\n",
    "    .reset_index()\n",
    "    .rename(columns={0: \"Time (s)\", \"level_1\": \"Method\"})\n",
    ")\n",
    "timings.head()"
   ]
  },
  {
   "cell_type": "code",
   "execution_count": 37,
   "metadata": {
    "Collapsed": "false"
   },
   "outputs": [
    {
     "data": {
      "image/png": "[encoded data removed]",
      "text/plain": [
       "<Figure size 288x432 with 1 Axes>"
      ]
     },
     "metadata": {},
     "output_type": "display_data"
    }
   ],
   "source": [
    "plt.figure(figsize=(4, 6))\n",
    "sns.boxplot(x=\"Method\", y=\"Time (s)\", data=timings)\n",
    "sns.despine()\n",
    "plt.tight_layout()"
   ]
  },
  {
   "cell_type": "markdown",
   "metadata": {
    "Collapsed": "true"
   },
   "source": [
    "## Datatype"
   ]
  },
  {
   "cell_type": "markdown",
   "metadata": {
    "Collapsed": "false"
   },
   "source": [
    "Pandas types are NumPys with some extensions—`categorical`, `datetime64`, and `timedelta64`. All columns should be same type. If that's not possible, it will have an `object` type.\n",
    "\n",
    "Traditional Pandas `NA` is a float. So if you have missing values with an integer column it will be an `object`. Text data will be an `object` column as well. There is no native `date` type—but it's usually okay to just use `datetime`.\n",
    "\n",
    "Good conversions methods are\n",
    "\n",
    "- `to_numeric`\n",
    "- `to_datetime`\n",
    "- `to_timedelta`"
   ]
  },
  {
   "cell_type": "markdown",
   "metadata": {
    "Collapsed": "false"
   },
   "source": [
    "## Iteration, apply, and vectorization"
   ]
  },
  {
   "cell_type": "markdown",
   "metadata": {
    "Collapsed": "false"
   },
   "source": [
    "<div class=\"alert alert-block alert-info\">\n",
    "    <b>Techniques of note</b>\n",
    "    <br><br>\n",
    "    <li><b><code>.from_product</code></b> to get possible combinations of MultiIndex</li>\n",
    "    <li><b><code>.add_suffix</code></b> to add a suffix to column names</li>\n",
    "    <li><b><code>.reindex</code></b> to assign indexes to a DataFrame. Use level argument to assign MultiIndex to single-level indexes</li>\n",
    "    <li><b><code>.itertuples</code></b> for iterating over DataFrame rows as namedtuples.</li>\n",
    "    <li><b><code>.transform</code></b> is used for applying a function to a GroupBy object. Note that this will return values in the original DataFrame dimension.</li>\n",
    "</div>"
   ]
  },
  {
   "cell_type": "code",
   "execution_count": 46,
   "metadata": {
    "Collapsed": "false"
   },
   "outputs": [],
   "source": [
    "df = pd.read_csv(\"data/307021124_T_ONTIME.csv\")\n",
    "delays = df[\"DEP_DELAY\"]"
   ]
  },
  {
   "cell_type": "markdown",
   "metadata": {
    "Collapsed": "false"
   },
   "source": [
    "Example: Get top values, _then_ sort."
   ]
  },
  {
   "cell_type": "code",
   "execution_count": 47,
   "metadata": {
    "Collapsed": "false"
   },
   "outputs": [
    {
     "data": {
      "text/plain": [
       "116358    1480.0\n",
       "149828    1545.0\n",
       "148904    1934.0\n",
       "61662     1970.0\n",
       "54015     2755.0\n",
       "Name: DEP_DELAY, dtype: float64"
      ]
     },
     "execution_count": 47,
     "metadata": {},
     "output_type": "execute_result"
    }
   ],
   "source": [
    "delays.nlargest(5).sort_values()"
   ]
  },
  {
   "cell_type": "code",
   "execution_count": 45,
   "metadata": {
    "Collapsed": "false"
   },
   "outputs": [
    {
     "data": {
      "text/plain": [
       "296949   -59.0\n",
       "235544   -58.0\n",
       "197476   -56.0\n",
       "326579   -56.0\n",
       "345488   -55.0\n",
       "Name: DEP_DELAY, dtype: float64"
      ]
     },
     "execution_count": 45,
     "metadata": {},
     "output_type": "execute_result"
    }
   ],
   "source": [
    "delays.nsmallest(5).sort_values()"
   ]
  },
  {
   "cell_type": "code",
   "execution_count": 48,
   "metadata": {
    "Collapsed": "false"
   },
   "outputs": [
    {
     "name": "stdout",
     "output_type": "stream",
     "text": [
      "34.2 ms ± 617 µs per loop (mean ± std. dev. of 7 runs, 10 loops each)\n"
     ]
    }
   ],
   "source": [
    "%timeit delays.sort_values().tail(5)"
   ]
  },
  {
   "cell_type": "code",
   "execution_count": 49,
   "metadata": {
    "Collapsed": "false"
   },
   "outputs": [
    {
     "name": "stdout",
     "output_type": "stream",
     "text": [
      "8.02 ms ± 124 µs per loop (mean ± std. dev. of 7 runs, 100 loops each)\n"
     ]
    }
   ],
   "source": [
    "%timeit delays.nlargest(5).sort_values()"
   ]
  },
  {
   "cell_type": "code",
   "execution_count": 1,
   "metadata": {
    "Collapsed": "false"
   },
   "outputs": [],
   "source": [
    "from utils import download_airports\n",
    "import zipfile\n",
    "if not os.path.exists(\"data/airports.csv.zip\"):\n",
    "    download_airports()"
   ]
  },
  {
   "cell_type": "code",
   "execution_count": 2,
   "metadata": {
    "Collapsed": "false"
   },
   "outputs": [
    {
     "data": {
      "text/html": [
       "<div>\n",
       "<style scoped>\n",
       "    .dataframe tbody tr th:only-of-type {\n",
       "        vertical-align: middle;\n",
       "    }\n",
       "\n",
       "    .dataframe tbody tr th {\n",
       "        vertical-align: top;\n",
       "    }\n",
       "\n",
       "    .dataframe thead th {\n",
       "        text-align: right;\n",
       "    }\n",
       "</style>\n",
       "<table border=\"1\" class=\"dataframe\">\n",
       "  <thead>\n",
       "    <tr style=\"text-align: right;\">\n",
       "      <th></th>\n",
       "      <th>LATITUDE</th>\n",
       "      <th>LONGITUDE</th>\n",
       "    </tr>\n",
       "    <tr>\n",
       "      <th>AIRPORT</th>\n",
       "      <th></th>\n",
       "      <th></th>\n",
       "    </tr>\n",
       "  </thead>\n",
       "  <tbody>\n",
       "    <tr>\n",
       "      <th>2CA</th>\n",
       "      <td>35.745556</td>\n",
       "      <td>-119.236389</td>\n",
       "    </tr>\n",
       "    <tr>\n",
       "      <th>6B0</th>\n",
       "      <td>43.984722</td>\n",
       "      <td>-73.095833</td>\n",
       "    </tr>\n",
       "    <tr>\n",
       "      <th>A06</th>\n",
       "      <td>65.655556</td>\n",
       "      <td>-165.356389</td>\n",
       "    </tr>\n",
       "    <tr>\n",
       "      <th>A13</th>\n",
       "      <td>61.390278</td>\n",
       "      <td>-157.995556</td>\n",
       "    </tr>\n",
       "    <tr>\n",
       "      <th>A25</th>\n",
       "      <td>59.288333</td>\n",
       "      <td>-136.173889</td>\n",
       "    </tr>\n",
       "  </tbody>\n",
       "</table>\n",
       "</div>"
      ],
      "text/plain": [
       "          LATITUDE   LONGITUDE\n",
       "AIRPORT                       \n",
       "2CA      35.745556 -119.236389\n",
       "6B0      43.984722  -73.095833\n",
       "A06      65.655556 -165.356389\n",
       "A13      61.390278 -157.995556\n",
       "A25      59.288333 -136.173889"
      ]
     },
     "execution_count": 2,
     "metadata": {},
     "output_type": "execute_result"
    }
   ],
   "source": [
    "coord = (\n",
    "    pd.read_csv(\n",
    "        \"data/airports.csv.zip\",\n",
    "        index_col=[\"AIRPORT\"],\n",
    "        usecols=[\"AIRPORT\", \"LATITUDE\", \"LONGITUDE\"],\n",
    "    )\n",
    "    .groupby(level=0)\n",
    "    .first()\n",
    "    .dropna()\n",
    "    .sample(n=500, random_state=42)\n",
    "    .sort_index()\n",
    ")\n",
    "\n",
    "coord.head()"
   ]
  },
  {
   "cell_type": "code",
   "execution_count": 14,
   "metadata": {
    "Collapsed": "false"
   },
   "outputs": [
    {
     "data": {
      "text/html": [
       "<div>\n",
       "<style scoped>\n",
       "    .dataframe tbody tr th:only-of-type {\n",
       "        vertical-align: middle;\n",
       "    }\n",
       "\n",
       "    .dataframe tbody tr th {\n",
       "        vertical-align: top;\n",
       "    }\n",
       "\n",
       "    .dataframe thead th {\n",
       "        text-align: right;\n",
       "    }\n",
       "</style>\n",
       "<table border=\"1\" class=\"dataframe\">\n",
       "  <thead>\n",
       "    <tr style=\"text-align: right;\">\n",
       "      <th></th>\n",
       "      <th>LATITUDE</th>\n",
       "      <th>LONGITUDE</th>\n",
       "    </tr>\n",
       "    <tr>\n",
       "      <th>AIRPORT</th>\n",
       "      <th></th>\n",
       "      <th></th>\n",
       "    </tr>\n",
       "  </thead>\n",
       "  <tbody>\n",
       "    <tr>\n",
       "      <th>2CA</th>\n",
       "      <td>35.745556</td>\n",
       "      <td>-119.236389</td>\n",
       "    </tr>\n",
       "    <tr>\n",
       "      <th>6B0</th>\n",
       "      <td>43.984722</td>\n",
       "      <td>-73.095833</td>\n",
       "    </tr>\n",
       "    <tr>\n",
       "      <th>A06</th>\n",
       "      <td>65.655556</td>\n",
       "      <td>-165.356389</td>\n",
       "    </tr>\n",
       "    <tr>\n",
       "      <th>A13</th>\n",
       "      <td>61.390278</td>\n",
       "      <td>-157.995556</td>\n",
       "    </tr>\n",
       "    <tr>\n",
       "      <th>A25</th>\n",
       "      <td>59.288333</td>\n",
       "      <td>-136.173889</td>\n",
       "    </tr>\n",
       "    <tr>\n",
       "      <th>...</th>\n",
       "      <td>...</td>\n",
       "      <td>...</td>\n",
       "    </tr>\n",
       "    <tr>\n",
       "      <th>ZAM</th>\n",
       "      <td>6.923056</td>\n",
       "      <td>122.058889</td>\n",
       "    </tr>\n",
       "    <tr>\n",
       "      <th>ZKP</th>\n",
       "      <td>-12.572778</td>\n",
       "      <td>27.893889</td>\n",
       "    </tr>\n",
       "    <tr>\n",
       "      <th>ZTS</th>\n",
       "      <td>49.916944</td>\n",
       "      <td>-126.650000</td>\n",
       "    </tr>\n",
       "    <tr>\n",
       "      <th>ZXM</th>\n",
       "      <td>55.408611</td>\n",
       "      <td>-132.329167</td>\n",
       "    </tr>\n",
       "    <tr>\n",
       "      <th>ZXX</th>\n",
       "      <td>46.218333</td>\n",
       "      <td>-119.209444</td>\n",
       "    </tr>\n",
       "  </tbody>\n",
       "</table>\n",
       "<p>500 rows × 2 columns</p>\n",
       "</div>"
      ],
      "text/plain": [
       "          LATITUDE   LONGITUDE\n",
       "AIRPORT                       \n",
       "2CA      35.745556 -119.236389\n",
       "6B0      43.984722  -73.095833\n",
       "A06      65.655556 -165.356389\n",
       "A13      61.390278 -157.995556\n",
       "A25      59.288333 -136.173889\n",
       "...            ...         ...\n",
       "ZAM       6.923056  122.058889\n",
       "ZKP     -12.572778   27.893889\n",
       "ZTS      49.916944 -126.650000\n",
       "ZXM      55.408611 -132.329167\n",
       "ZXX      46.218333 -119.209444\n",
       "\n",
       "[500 rows x 2 columns]"
      ]
     },
     "execution_count": 14,
     "metadata": {},
     "output_type": "execute_result"
    }
   ],
   "source": [
    "coord"
   ]
  },
  {
   "cell_type": "code",
   "execution_count": 15,
   "metadata": {
    "Collapsed": "false"
   },
   "outputs": [
    {
     "data": {
      "text/html": [
       "<div>\n",
       "<style scoped>\n",
       "    .dataframe tbody tr th:only-of-type {\n",
       "        vertical-align: middle;\n",
       "    }\n",
       "\n",
       "    .dataframe tbody tr th {\n",
       "        vertical-align: top;\n",
       "    }\n",
       "\n",
       "    .dataframe thead th {\n",
       "        text-align: right;\n",
       "    }\n",
       "</style>\n",
       "<table border=\"1\" class=\"dataframe\">\n",
       "  <thead>\n",
       "    <tr style=\"text-align: right;\">\n",
       "      <th></th>\n",
       "      <th></th>\n",
       "      <th>LATITUDE</th>\n",
       "      <th>LONGITUDE</th>\n",
       "    </tr>\n",
       "    <tr>\n",
       "      <th>origin</th>\n",
       "      <th>dest</th>\n",
       "      <th></th>\n",
       "      <th></th>\n",
       "    </tr>\n",
       "  </thead>\n",
       "  <tbody>\n",
       "    <tr>\n",
       "      <th rowspan=\"5\" valign=\"top\">2CA</th>\n",
       "      <th>2CA</th>\n",
       "      <td>35.745556</td>\n",
       "      <td>-119.236389</td>\n",
       "    </tr>\n",
       "    <tr>\n",
       "      <th>6B0</th>\n",
       "      <td>35.745556</td>\n",
       "      <td>-119.236389</td>\n",
       "    </tr>\n",
       "    <tr>\n",
       "      <th>A06</th>\n",
       "      <td>35.745556</td>\n",
       "      <td>-119.236389</td>\n",
       "    </tr>\n",
       "    <tr>\n",
       "      <th>A13</th>\n",
       "      <td>35.745556</td>\n",
       "      <td>-119.236389</td>\n",
       "    </tr>\n",
       "    <tr>\n",
       "      <th>A25</th>\n",
       "      <td>35.745556</td>\n",
       "      <td>-119.236389</td>\n",
       "    </tr>\n",
       "    <tr>\n",
       "      <th>...</th>\n",
       "      <th>...</th>\n",
       "      <td>...</td>\n",
       "      <td>...</td>\n",
       "    </tr>\n",
       "    <tr>\n",
       "      <th rowspan=\"2\" valign=\"top\">ZTS</th>\n",
       "      <th>ZXM</th>\n",
       "      <td>49.916944</td>\n",
       "      <td>-126.650000</td>\n",
       "    </tr>\n",
       "    <tr>\n",
       "      <th>ZXX</th>\n",
       "      <td>49.916944</td>\n",
       "      <td>-126.650000</td>\n",
       "    </tr>\n",
       "    <tr>\n",
       "      <th rowspan=\"2\" valign=\"top\">ZXM</th>\n",
       "      <th>ZXM</th>\n",
       "      <td>55.408611</td>\n",
       "      <td>-132.329167</td>\n",
       "    </tr>\n",
       "    <tr>\n",
       "      <th>ZXX</th>\n",
       "      <td>55.408611</td>\n",
       "      <td>-132.329167</td>\n",
       "    </tr>\n",
       "    <tr>\n",
       "      <th>ZXX</th>\n",
       "      <th>ZXX</th>\n",
       "      <td>46.218333</td>\n",
       "      <td>-119.209444</td>\n",
       "    </tr>\n",
       "  </tbody>\n",
       "</table>\n",
       "<p>125250 rows × 2 columns</p>\n",
       "</div>"
      ],
      "text/plain": [
       "              LATITUDE   LONGITUDE\n",
       "origin dest                       \n",
       "2CA    2CA   35.745556 -119.236389\n",
       "       6B0   35.745556 -119.236389\n",
       "       A06   35.745556 -119.236389\n",
       "       A13   35.745556 -119.236389\n",
       "       A25   35.745556 -119.236389\n",
       "...                ...         ...\n",
       "ZTS    ZXM   49.916944 -126.650000\n",
       "       ZXX   49.916944 -126.650000\n",
       "ZXM    ZXM   55.408611 -132.329167\n",
       "       ZXX   55.408611 -132.329167\n",
       "ZXX    ZXX   46.218333 -119.209444\n",
       "\n",
       "[125250 rows x 2 columns]"
      ]
     },
     "execution_count": 15,
     "metadata": {},
     "output_type": "execute_result"
    }
   ],
   "source": [
    "coord.reindex(idx, level=\"origin\")"
   ]
  },
  {
   "cell_type": "code",
   "execution_count": 8,
   "metadata": {
    "Collapsed": "false"
   },
   "outputs": [
    {
     "data": {
      "text/html": [
       "<div>\n",
       "<style scoped>\n",
       "    .dataframe tbody tr th:only-of-type {\n",
       "        vertical-align: middle;\n",
       "    }\n",
       "\n",
       "    .dataframe tbody tr th {\n",
       "        vertical-align: top;\n",
       "    }\n",
       "\n",
       "    .dataframe thead th {\n",
       "        text-align: right;\n",
       "    }\n",
       "</style>\n",
       "<table border=\"1\" class=\"dataframe\">\n",
       "  <thead>\n",
       "    <tr style=\"text-align: right;\">\n",
       "      <th></th>\n",
       "      <th></th>\n",
       "      <th>LATITUDE_1</th>\n",
       "      <th>LONGITUDE_1</th>\n",
       "      <th>LATITUDE_2</th>\n",
       "      <th>LONGITUDE_2</th>\n",
       "    </tr>\n",
       "    <tr>\n",
       "      <th>origin</th>\n",
       "      <th>dest</th>\n",
       "      <th></th>\n",
       "      <th></th>\n",
       "      <th></th>\n",
       "      <th></th>\n",
       "    </tr>\n",
       "  </thead>\n",
       "  <tbody>\n",
       "    <tr>\n",
       "      <th rowspan=\"5\" valign=\"top\">2CA</th>\n",
       "      <th>2CA</th>\n",
       "      <td>35.745556</td>\n",
       "      <td>-119.236389</td>\n",
       "      <td>35.745556</td>\n",
       "      <td>-119.236389</td>\n",
       "    </tr>\n",
       "    <tr>\n",
       "      <th>6B0</th>\n",
       "      <td>35.745556</td>\n",
       "      <td>-119.236389</td>\n",
       "      <td>43.984722</td>\n",
       "      <td>-73.095833</td>\n",
       "    </tr>\n",
       "    <tr>\n",
       "      <th>A06</th>\n",
       "      <td>35.745556</td>\n",
       "      <td>-119.236389</td>\n",
       "      <td>65.655556</td>\n",
       "      <td>-165.356389</td>\n",
       "    </tr>\n",
       "    <tr>\n",
       "      <th>A13</th>\n",
       "      <td>35.745556</td>\n",
       "      <td>-119.236389</td>\n",
       "      <td>61.390278</td>\n",
       "      <td>-157.995556</td>\n",
       "    </tr>\n",
       "    <tr>\n",
       "      <th>A25</th>\n",
       "      <td>35.745556</td>\n",
       "      <td>-119.236389</td>\n",
       "      <td>59.288333</td>\n",
       "      <td>-136.173889</td>\n",
       "    </tr>\n",
       "  </tbody>\n",
       "</table>\n",
       "</div>"
      ],
      "text/plain": [
       "             LATITUDE_1  LONGITUDE_1  LATITUDE_2  LONGITUDE_2\n",
       "origin dest                                                  \n",
       "2CA    2CA    35.745556  -119.236389   35.745556  -119.236389\n",
       "       6B0    35.745556  -119.236389   43.984722   -73.095833\n",
       "       A06    35.745556  -119.236389   65.655556  -165.356389\n",
       "       A13    35.745556  -119.236389   61.390278  -157.995556\n",
       "       A25    35.745556  -119.236389   59.288333  -136.173889"
      ]
     },
     "execution_count": 8,
     "metadata": {},
     "output_type": "execute_result"
    }
   ],
   "source": [
    "idx = pd.MultiIndex.from_product([coord.index, coord.index], names=[\"origin\", \"dest\"])\n",
    "pairs = pd.concat(\n",
    "    [\n",
    "        coord.add_suffix(\"_1\").reindex(idx, level=\"origin\"),\n",
    "        coord.add_suffix(\"_2\").reindex(idx, level=\"dest\"),\n",
    "    ],\n",
    "    axis=1\n",
    ")\n",
    "pairs.head()"
   ]
  },
  {
   "cell_type": "code",
   "execution_count": 11,
   "metadata": {
    "Collapsed": "false"
   },
   "outputs": [
    {
     "data": {
      "text/plain": [
       "125250"
      ]
     },
     "execution_count": 11,
     "metadata": {},
     "output_type": "execute_result"
    }
   ],
   "source": [
    "idx = idx[idx.get_level_values(0) <= idx.get_level_values(1)]\n",
    "len(idx)"
   ]
  },
  {
   "cell_type": "markdown",
   "metadata": {
    "Collapsed": "false"
   },
   "source": [
    "Alternate implementation. Slower."
   ]
  },
  {
   "cell_type": "code",
   "execution_count": null,
   "metadata": {
    "Collapsed": "false"
   },
   "outputs": [],
   "source": [
    "# Version not leveraging indexes\n",
    "from itertools import product, chain\n",
    "\n",
    "coord2 = coord.reset_index()\n",
    "x = product(\n",
    "    coord2.add_suffix(\"_1\").itertuples(index=False),\n",
    "    coord2.add_suffix(\"_2\").itertuples(index=False),\n",
    ")\n",
    "y = [list(chain.from_iterable(z)) for z in x]\n",
    "\n",
    "df2 = pd.DataFrame(\n",
    "    y,\n",
    "    columns=[\n",
    "        \"origin\",\n",
    "        \"LATITUDE_1\",\n",
    "        \"LONGITUDE_1\",\n",
    "        \"dest\",\n",
    "        \"LATITUDE_1\",\n",
    "        \"LONGITUDE_2\",\n",
    "    ],\n",
    ").set_index([\"origin\", \"dest\"])\n",
    "df2.head()"
   ]
  },
  {
   "cell_type": "markdown",
   "metadata": {
    "Collapsed": "false"
   },
   "source": [
    "\"Python\" vs NumPy"
   ]
  },
  {
   "cell_type": "code",
   "execution_count": 17,
   "metadata": {
    "Collapsed": "false"
   },
   "outputs": [],
   "source": [
    "import math\n",
    "\n",
    "\n",
    "def gcd_py(lat1, lng1, lat2, lng2):\n",
    "    \"\"\"\n",
    "    Calculate great circle distance between two points.\n",
    "    http://www.johndcook.com/blog/python_longitude_latitude/\n",
    "\n",
    "    Parameters\n",
    "    ----------\n",
    "    lat1, lng1, lat2, lng2: float\n",
    "\n",
    "    Returns\n",
    "    -------\n",
    "    distance:\n",
    "      distance from ``(lat1, lng1)`` to ``(lat2, lng2)`` in kilometers.\n",
    "    \"\"\"\n",
    "    # python2 users will have to use ascii identifiers (or upgrade)\n",
    "    degrees_to_radians = math.pi / 180.0\n",
    "    ϕ1 = (90 - lat1) * degrees_to_radians\n",
    "    ϕ2 = (90 - lat2) * degrees_to_radians\n",
    "\n",
    "    θ1 = lng1 * degrees_to_radians\n",
    "    θ2 = lng2 * degrees_to_radians\n",
    "\n",
    "    cos = math.sin(ϕ1) * math.sin(ϕ2) * math.cos(θ1 - θ2) + math.cos(ϕ1) * math.cos(ϕ2)\n",
    "    # round to avoid precision issues on identical points causing ValueErrors\n",
    "    cos = round(cos, 8)\n",
    "    arc = math.acos(cos)\n",
    "    return arc * 6373  # radius of earth, in kilometers"
   ]
  },
  {
   "cell_type": "code",
   "execution_count": 18,
   "metadata": {
    "Collapsed": "false"
   },
   "outputs": [],
   "source": [
    "def gcd_vec(lat1, lng1, lat2, lng2):\n",
    "    \"\"\"\n",
    "    Calculate great circle distance.\n",
    "    http://www.johndcook.com/blog/python_longitude_latitude/\n",
    "\n",
    "    Parameters\n",
    "    ----------\n",
    "    lat1, lng1, lat2, lng2: float or array of float\n",
    "\n",
    "    Returns\n",
    "    -------\n",
    "    distance:\n",
    "      distance from ``(lat1, lng1)`` to ``(lat2, lng2)`` in kilometers.\n",
    "    \"\"\"\n",
    "    # python2 users will have to use ascii identifiers\n",
    "    ϕ1 = np.deg2rad(90 - lat1)\n",
    "    ϕ2 = np.deg2rad(90 - lat2)\n",
    "\n",
    "    θ1 = np.deg2rad(lng1)\n",
    "    θ2 = np.deg2rad(lng2)\n",
    "\n",
    "    cos = np.sin(ϕ1) * np.sin(ϕ2) * np.cos(θ1 - θ2) + np.cos(ϕ1) * np.cos(ϕ2)\n",
    "    arc = np.arccos(cos)\n",
    "    return arc * 6373"
   ]
  },
  {
   "cell_type": "markdown",
   "metadata": {
    "Collapsed": "false"
   },
   "source": [
    "Iteration vs `.apply`"
   ]
  },
  {
   "cell_type": "code",
   "execution_count": null,
   "metadata": {
    "Collapsed": "false"
   },
   "outputs": [],
   "source": [
    "pairs.itertuples"
   ]
  },
  {
   "cell_type": "code",
   "execution_count": 23,
   "metadata": {
    "Collapsed": "false"
   },
   "outputs": [
    {
     "name": "stdout",
     "output_type": "stream",
     "text": [
      "CPU times: user 644 ms, sys: 8.9 ms, total: 653 ms\n",
      "Wall time: 651 ms\n"
     ]
    },
    {
     "data": {
      "text/plain": [
       "origin  dest\n",
       "2CA     2CA         0.000000\n",
       "        6B0      3989.980668\n",
       "        A06      4467.962648\n",
       "        A13      3928.909755\n",
       "        A25      2892.150496\n",
       "                    ...     \n",
       "ZXX     ZAM     11576.021492\n",
       "        ZKP     15171.957080\n",
       "        ZTS       688.749534\n",
       "        ZXM      1372.172407\n",
       "        ZXX         0.000000\n",
       "Length: 250000, dtype: float64"
      ]
     },
     "execution_count": 23,
     "metadata": {},
     "output_type": "execute_result"
    }
   ],
   "source": [
    "%%time\n",
    "# Iteration\n",
    "pd.Series([gcd_py(*x) for x in pairs.itertuples(index=False)], index=pairs.index)"
   ]
  },
  {
   "cell_type": "code",
   "execution_count": 24,
   "metadata": {
    "Collapsed": "false"
   },
   "outputs": [
    {
     "name": "stdout",
     "output_type": "stream",
     "text": [
      "CPU times: user 25.4 s, sys: 105 ms, total: 25.5 s\n",
      "Wall time: 25.6 s\n"
     ]
    }
   ],
   "source": [
    "%%time\n",
    "# ``.apply``\n",
    "r = pairs.apply(\n",
    "    lambda x: gcd_py(\n",
    "        x[\"LATITUDE_1\"], x[\"LONGITUDE_1\"], x[\"LATITUDE_2\"], x[\"LONGITUDE_2\"]\n",
    "    ),\n",
    "    axis=1,\n",
    ");"
   ]
  },
  {
   "cell_type": "markdown",
   "metadata": {
    "Collapsed": "false"
   },
   "source": [
    "`.apply` is _way_ slower. You rarely want to use `.apply` and even less so with `axis=1`. Write functions that take in arrays and pass those directly."
   ]
  },
  {
   "cell_type": "code",
   "execution_count": 27,
   "metadata": {
    "Collapsed": "false"
   },
   "outputs": [
    {
     "name": "stdout",
     "output_type": "stream",
     "text": [
      "CPU times: user 41.8 ms, sys: 4.21 ms, total: 46 ms\n",
      "Wall time: 30.8 ms\n"
     ]
    }
   ],
   "source": [
    "%%time\n",
    "# Best version\n",
    "r = gcd_vec(\n",
    "    pairs[\"LATITUDE_1\"], pairs[\"LONGITUDE_1\"], pairs[\"LATITUDE_2\"], pairs[\"LONGITUDE_2\"]\n",
    ")"
   ]
  },
  {
   "cell_type": "markdown",
   "metadata": {
    "Collapsed": "false"
   },
   "source": [
    "Some operations are a little bit tricker to vectorize."
   ]
  },
  {
   "cell_type": "code",
   "execution_count": 36,
   "metadata": {
    "Collapsed": "false"
   },
   "outputs": [],
   "source": [
    "import random\n",
    "\n",
    "\n",
    "def create_frame(n, n_groups):\n",
    "    # just setup code, not benchmarking this\n",
    "    stamps = pd.date_range(\"20010101\", periods=n, freq=\"ms\")\n",
    "    random.shuffle(stamps.values)\n",
    "    return pd.DataFrame(\n",
    "        {\n",
    "            \"name\": np.random.randint(0, n_groups, size=n),\n",
    "            \"stamp\": stamps,\n",
    "            \"value\": np.random.randint(0, n, size=n),\n",
    "            \"value2\": np.random.randn(n),\n",
    "        }\n",
    "    )\n",
    "\n",
    "\n",
    "df = create_frame(1000000, 10000)\n",
    "\n",
    "\n",
    "def f_apply(df):\n",
    "    # Typical transform\n",
    "    return df.groupby(\"name\").value2.apply(lambda x: (x - x.mean()) / x.std())\n",
    "\n",
    "\n",
    "def f_unwrap(df):\n",
    "    # \"unwrapped\"\n",
    "    g = df.groupby(\"name\").value2\n",
    "    v = df.value2\n",
    "    return (v - g.transform(np.mean)) / g.transform(np.std)"
   ]
  },
  {
   "cell_type": "code",
   "execution_count": 30,
   "metadata": {
    "Collapsed": "false"
   },
   "outputs": [
    {
     "name": "stdout",
     "output_type": "stream",
     "text": [
      "5.54 s ± 76.6 ms per loop (mean ± std. dev. of 7 runs, 1 loop each)\n"
     ]
    }
   ],
   "source": [
    "%timeit f_apply(df)"
   ]
  },
  {
   "cell_type": "code",
   "execution_count": 37,
   "metadata": {
    "Collapsed": "false"
   },
   "outputs": [
    {
     "name": "stdout",
     "output_type": "stream",
     "text": [
      "53 ms ± 253 µs per loop (mean ± std. dev. of 7 runs, 10 loops each)\n"
     ]
    }
   ],
   "source": [
    "%timeit f_unwrap(df)"
   ]
  },
  {
   "cell_type": "markdown",
   "metadata": {
    "Collapsed": "false"
   },
   "source": [
    "Pandas `GroupBy` will intercept calls for common functions like mean, std, and sum and use optimized Cython versions. Note that `GroupBy.apply` exists for flexibility, but is not the fastest."
   ]
  },
  {
   "cell_type": "markdown",
   "metadata": {
    "Collapsed": "false"
   },
   "source": [
    "## Categoricals"
   ]
  },
  {
   "cell_type": "markdown",
   "metadata": {
    "Collapsed": "false"
   },
   "source": [
    "Good way to represent strings with few unique values."
   ]
  },
  {
   "cell_type": "code",
   "execution_count": 52,
   "metadata": {
    "Collapsed": "false"
   },
   "outputs": [
    {
     "name": "stdout",
     "output_type": "stream",
     "text": [
      "800.00 KB\n"
     ]
    }
   ],
   "source": [
    "import string\n",
    "\n",
    "s = pd.Series(np.random.choice(list(string.ascii_letters), 100000))\n",
    "print(\"{:0.2f} KB\".format(s.memory_usage(index=False) / 1000))"
   ]
  },
  {
   "cell_type": "code",
   "execution_count": 53,
   "metadata": {
    "Collapsed": "false"
   },
   "outputs": [
    {
     "name": "stdout",
     "output_type": "stream",
     "text": [
      "102.98 KB\n"
     ]
    }
   ],
   "source": [
    "c = s.astype(\"category\")\n",
    "print(\"{:0.2f} KB\".format(c.memory_usage(index=False) / 1000))"
   ]
  },
  {
   "cell_type": "code",
   "execution_count": null,
   "metadata": {
    "Collapsed": "false"
   },
   "outputs": [],
   "source": []
  }
 ],
 "metadata": {
  "jupytext": {
   "encoding": "# -*- coding: utf-8 -*-",
   "formats": "ipynb,py:percent,md"
  },
  "kernelspec": {
   "display_name": "modern-pandas",
   "language": "python",
   "name": "modern-pandas"
  },
  "language_info": {
   "codemirror_mode": {
    "name": "ipython",
    "version": 3
   },
   "file_extension": ".py",
   "mimetype": "text/x-python",
   "name": "python",
   "nbconvert_exporter": "python",
   "pygments_lexer": "ipython3",
   "version": "3.8.2"
  }
 },
 "nbformat": 4,
 "nbformat_minor": 4
}
