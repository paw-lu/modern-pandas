{
 "cells": [
  {
   "cell_type": "markdown",
   "metadata": {
    "Collapsed": "false"
   },
   "source": [
    "# 2. Method chaining"
   ]
  },
  {
   "cell_type": "markdown",
   "metadata": {
    "Collapsed": "false"
   },
   "source": [
    "Many chaining-friendly methods such as:\n",
    "\n",
    "- `.assign`\n",
    "- `.pipe`\n",
    "- `.rename`/`.rename_axis`\n",
    "- Window methods: `.rolling`\n",
    "- `.resample`\n",
    "- `.where` and `mask` and Indexers accept lambdas"
   ]
  },
  {
   "cell_type": "markdown",
   "metadata": {
    "Collapsed": "false"
   },
   "source": [
    "## Data"
   ]
  },
  {
   "cell_type": "code",
   "execution_count": 1,
   "metadata": {
    "Collapsed": "false"
   },
   "outputs": [
    {
     "name": "stderr",
     "output_type": "stream",
     "text": [
      "/Users/pcosta/Library/Caches/pypoetry/virtualenvs/modern-pandas-gheCaqJK-py3.8/lib/python3.8/site-packages/sklearn/externals/joblib/__init__.py:15: FutureWarning: sklearn.externals.joblib is deprecated in 0.21 and will be removed in 0.23. Please import this functionality directly from joblib, which can be installed with: pip install joblib. If this warning is raised when loading pickled models, you may need to re-serialize those models with scikit-learn 0.21+.\n",
      "  warnings.warn(msg, category=FutureWarning)\n"
     ]
    }
   ],
   "source": [
    "%matplotlib inline\n",
    "\n",
    "import os\n",
    "\n",
    "import numpy as np\n",
    "import pandas as pd\n",
    "\n",
    "import matplotlib.pyplot as plt\n",
    "import prep\n",
    "import seaborn as sns\n",
    "\n",
    "# sns.set(style='ticks', context='talk')"
   ]
  },
  {
   "cell_type": "code",
   "execution_count": 2,
   "metadata": {
    "Collapsed": "false"
   },
   "outputs": [
    {
     "name": "stdout",
     "output_type": "stream",
     "text": [
      "<class 'pandas.core.frame.DataFrame'>\n",
      "Int64Index: 450017 entries, 0 to 450016\n",
      "Data columns (total 33 columns):\n",
      " #   Column                 Non-Null Count   Dtype         \n",
      "---  ------                 --------------   -----         \n",
      " 0   fl_date                450017 non-null  datetime64[ns]\n",
      " 1   unique_carrier         450017 non-null  category      \n",
      " 2   airline_id             450017 non-null  int64         \n",
      " 3   tail_num               449378 non-null  category      \n",
      " 4   fl_num                 450017 non-null  int64         \n",
      " 5   origin_airport_id      450017 non-null  int64         \n",
      " 6   origin_airport_seq_id  450017 non-null  int64         \n",
      " 7   origin_city_market_id  450017 non-null  int64         \n",
      " 8   origin                 450017 non-null  category      \n",
      " 9   origin_city_name       450017 non-null  object        \n",
      " 10  dest_airport_id        450017 non-null  int64         \n",
      " 11  dest_airport_seq_id    450017 non-null  int64         \n",
      " 12  dest_city_market_id    450017 non-null  int64         \n",
      " 13  dest                   450017 non-null  category      \n",
      " 14  dest_city_name         450017 non-null  object        \n",
      " 15  crs_dep_time           450017 non-null  datetime64[ns]\n",
      " 16  dep_time               441445 non-null  datetime64[ns]\n",
      " 17  dep_delay              441476 non-null  float64       \n",
      " 18  taxi_out               441244 non-null  float64       \n",
      " 19  wheels_off             441244 non-null  float64       \n",
      " 20  wheels_on              440746 non-null  float64       \n",
      " 21  taxi_in                440746 non-null  float64       \n",
      " 22  crs_arr_time           450017 non-null  datetime64[ns]\n",
      " 23  arr_time               440555 non-null  datetime64[ns]\n",
      " 24  arr_delay              439645 non-null  float64       \n",
      " 25  cancelled              450017 non-null  float64       \n",
      " 26  cancellation_code      8886 non-null    category      \n",
      " 27  carrier_delay          97699 non-null   float64       \n",
      " 28  weather_delay          97699 non-null   float64       \n",
      " 29  nas_delay              97699 non-null   float64       \n",
      " 30  security_delay         97699 non-null   float64       \n",
      " 31  late_aircraft_delay    97699 non-null   float64       \n",
      " 32  unnamed: 32            0 non-null       float64       \n",
      "dtypes: category(5), datetime64[ns](5), float64(13), int64(8), object(2)\n",
      "memory usage: 103.2+ MB\n"
     ]
    }
   ],
   "source": [
    "def read(fp):\n",
    "    df = (\n",
    "        pd.read_csv(fp)\n",
    "        .rename(columns=str.lower)\n",
    "#         .drop(\"unnamed: 36\", axis=1)\n",
    "        .pipe(extract_city_name)\n",
    "        .pipe(\n",
    "            time_to_datetime, [\"dep_time\", \"arr_time\", \"crs_arr_time\", \"crs_dep_time\"]\n",
    "        )\n",
    "        .assign(\n",
    "            fl_date=lambda x: pd.to_datetime(x[\"fl_date\"]),\n",
    "            dest=lambda x: pd.Categorical(x[\"dest\"]),\n",
    "            origin=lambda x: pd.Categorical(x[\"origin\"]),\n",
    "            tail_num=lambda x: pd.Categorical(x[\"tail_num\"]),\n",
    "            unique_carrier=lambda x: pd.Categorical(x[\"unique_carrier\"]),\n",
    "            cancellation_code=lambda x: pd.Categorical(x[\"cancellation_code\"]),\n",
    "        )\n",
    "    )\n",
    "    return df\n",
    "\n",
    "\n",
    "def extract_city_name(df):\n",
    "    \"\"\"\n",
    "    Chicago, IL -> Chicago for origin_city_name and dest_city_name\n",
    "    \"\"\"\n",
    "    cols = [\"origin_city_name\", \"dest_city_name\"]\n",
    "    city = df[cols].apply(lambda x: x.str.extract(\"(.*), \\w{2}\", expand=False))\n",
    "    df = df.copy()\n",
    "    df[[\"origin_city_name\", \"dest_city_name\"]] = city\n",
    "    return df\n",
    "\n",
    "\n",
    "def time_to_datetime(df, columns):\n",
    "    \"\"\"\n",
    "    Combine all time items into datetimes.\n",
    "\n",
    "    2014-01-01,0914 -> 2014-01-01 09:14:00\n",
    "    \"\"\"\n",
    "    df = df.copy()\n",
    "\n",
    "    def converter(col):\n",
    "        timepart = (\n",
    "            col.astype(str)\n",
    "            .str.replace(\"\\.0$\", \"\")  # NaNs force float dtype\n",
    "            .str.pad(4, fillchar=\"0\")\n",
    "        )\n",
    "        return pd.to_datetime(\n",
    "            df[\"fl_date\"]\n",
    "            + \" \"\n",
    "            + timepart.str.slice(0, 2)\n",
    "            + \":\"\n",
    "            + timepart.str.slice(2, 4),\n",
    "            errors=\"coerce\",\n",
    "        )\n",
    "\n",
    "    df[columns] = df[columns].apply(converter)\n",
    "    return df\n",
    "\n",
    "\n",
    "output = \"data/flights.h5\"\n",
    "\n",
    "if not os.path.exists(output):\n",
    "    df = read(\"data/307021124_T_ONTIME.csv\")\n",
    "    df.to_hdf(output, \"flights\", format=\"table\")\n",
    "else:\n",
    "#     df = read(\"data/307021124_T_ONTIME.csv\")\n",
    "    df = pd.read_hdf(output, \"flights\")\n",
    "df.info()"
   ]
  },
  {
   "cell_type": "markdown",
   "metadata": {
    "Collapsed": "false"
   },
   "source": [
    "## Inspecting chains"
   ]
  },
  {
   "cell_type": "markdown",
   "metadata": {
    "Collapsed": "false"
   },
   "source": [
    "[Tom Augspurger](https://tomaugspurger.github.io/method-chaining) wrote some decorators you can use to inspect and log DataFrame properties in between chain steps."
   ]
  },
  {
   "cell_type": "code",
   "execution_count": 9,
   "metadata": {
    "Collapsed": "false"
   },
   "outputs": [],
   "source": [
    "from functools import wraps\n",
    "import logging\n",
    "\n",
    "def log_shape(func):\n",
    "    @wraps(func)\n",
    "    def wrapper(*args, **kwargs):\n",
    "        result = func(*args, **kwargs)\n",
    "        logging.info(\"%s,%s\" % (func.__name__, result.shape))\n",
    "        return result\n",
    "    return wrapper\n",
    "\n",
    "def log_dtypes(func):\n",
    "    @wraps(func)\n",
    "    def wrapper(*args, **kwargs):\n",
    "        result = func(*args, **kwargs)\n",
    "        logging.info(\"%s,%s\" % (func.__name__, result.dtypes))\n",
    "        return result\n",
    "    return wrapper\n",
    "\n",
    "\n",
    "@log_shape\n",
    "@log_dtypes\n",
    "def load(fp):\n",
    "    df = pd.read_csv(fp, index_col=0, parse_dates=True)\n",
    "\n",
    "@log_shape\n",
    "@log_dtypes\n",
    "def update_events(df, new_events):\n",
    "    df.loc[new_events.index, 'foo'] = new_events\n",
    "    return df"
   ]
  },
  {
   "cell_type": "markdown",
   "metadata": {
    "Collapsed": "false"
   },
   "source": [
    "## Inplace argument "
   ]
  },
  {
   "cell_type": "markdown",
   "metadata": {
    "Collapsed": "false"
   },
   "source": [
    "Many Pandas methods have an `inplace` keyword that is `False` by default. Keep it that way."
   ]
  },
  {
   "cell_type": "markdown",
   "metadata": {
    "Collapsed": "false"
   },
   "source": [
    "## Examples"
   ]
  },
  {
   "cell_type": "markdown",
   "metadata": {
    "Collapsed": "false"
   },
   "source": [
    "<div class=\"alert alert-block alert-info\">\n",
    "    <b>Techniques of note</b>\n",
    "    <br><br>\n",
    "    <li><b><code>DataFrame.loc[lambda: ...]</code></b> for chaining and filtering</li>\n",
    "    <li><b><code>pd.Grouper</code></b> for resampling while using <code>.groupby</code></li>\n",
    "    <li><b><code>.unstack</code></b> for easy pivoting</li>\n",
    "    <li><b><code>.rolling</code></b> for resampling via rows</li>\n",
    "    <li><b><code>.pipe</code></b> for evaluating functions in chains</li>\n",
    "    <li><b><code>.assign</code></b> for adding new columns in chains</li>\n",
    "</div>"
   ]
  },
  {
   "cell_type": "code",
   "execution_count": 30,
   "metadata": {
    "Collapsed": "false"
   },
   "outputs": [
    {
     "data": {
      "text/html": [
       "<div>\n",
       "<style scoped>\n",
       "    .dataframe tbody tr th:only-of-type {\n",
       "        vertical-align: middle;\n",
       "    }\n",
       "\n",
       "    .dataframe tbody tr th {\n",
       "        vertical-align: top;\n",
       "    }\n",
       "\n",
       "    .dataframe thead th {\n",
       "        text-align: right;\n",
       "    }\n",
       "</style>\n",
       "<table border=\"1\" class=\"dataframe\">\n",
       "  <thead>\n",
       "    <tr style=\"text-align: right;\">\n",
       "      <th></th>\n",
       "      <th>fl_date</th>\n",
       "      <th>unique_carrier</th>\n",
       "      <th>airline_id</th>\n",
       "      <th>tail_num</th>\n",
       "      <th>fl_num</th>\n",
       "      <th>origin_airport_id</th>\n",
       "      <th>origin_airport_seq_id</th>\n",
       "      <th>origin_city_market_id</th>\n",
       "      <th>origin</th>\n",
       "      <th>origin_city_name</th>\n",
       "      <th>...</th>\n",
       "      <th>arr_time</th>\n",
       "      <th>arr_delay</th>\n",
       "      <th>cancelled</th>\n",
       "      <th>cancellation_code</th>\n",
       "      <th>carrier_delay</th>\n",
       "      <th>weather_delay</th>\n",
       "      <th>nas_delay</th>\n",
       "      <th>security_delay</th>\n",
       "      <th>late_aircraft_delay</th>\n",
       "      <th>unnamed: 32</th>\n",
       "    </tr>\n",
       "  </thead>\n",
       "  <tbody>\n",
       "    <tr>\n",
       "      <th>0</th>\n",
       "      <td>2017-01-01</td>\n",
       "      <td>AA</td>\n",
       "      <td>19805</td>\n",
       "      <td>N3GNAA</td>\n",
       "      <td>2186</td>\n",
       "      <td>14100</td>\n",
       "      <td>1410002</td>\n",
       "      <td>34100</td>\n",
       "      <td>PHL</td>\n",
       "      <td>Philadelphia</td>\n",
       "      <td>...</td>\n",
       "      <td>2017-01-01 07:31:00</td>\n",
       "      <td>-19.0</td>\n",
       "      <td>0.0</td>\n",
       "      <td>NaN</td>\n",
       "      <td>NaN</td>\n",
       "      <td>NaN</td>\n",
       "      <td>NaN</td>\n",
       "      <td>NaN</td>\n",
       "      <td>NaN</td>\n",
       "      <td>NaN</td>\n",
       "    </tr>\n",
       "    <tr>\n",
       "      <th>1</th>\n",
       "      <td>2017-01-01</td>\n",
       "      <td>AA</td>\n",
       "      <td>19805</td>\n",
       "      <td>N3KAAA</td>\n",
       "      <td>2189</td>\n",
       "      <td>11298</td>\n",
       "      <td>1129804</td>\n",
       "      <td>30194</td>\n",
       "      <td>DFW</td>\n",
       "      <td>Dallas/Fort Worth</td>\n",
       "      <td>...</td>\n",
       "      <td>2017-01-01 20:23:00</td>\n",
       "      <td>-4.0</td>\n",
       "      <td>0.0</td>\n",
       "      <td>NaN</td>\n",
       "      <td>NaN</td>\n",
       "      <td>NaN</td>\n",
       "      <td>NaN</td>\n",
       "      <td>NaN</td>\n",
       "      <td>NaN</td>\n",
       "      <td>NaN</td>\n",
       "    </tr>\n",
       "    <tr>\n",
       "      <th>2</th>\n",
       "      <td>2017-01-01</td>\n",
       "      <td>AA</td>\n",
       "      <td>19805</td>\n",
       "      <td>N3LFAA</td>\n",
       "      <td>2190</td>\n",
       "      <td>11298</td>\n",
       "      <td>1129804</td>\n",
       "      <td>30194</td>\n",
       "      <td>DFW</td>\n",
       "      <td>Dallas/Fort Worth</td>\n",
       "      <td>...</td>\n",
       "      <td>2017-01-01 00:04:00</td>\n",
       "      <td>16.0</td>\n",
       "      <td>0.0</td>\n",
       "      <td>NaN</td>\n",
       "      <td>0.0</td>\n",
       "      <td>0.0</td>\n",
       "      <td>16.0</td>\n",
       "      <td>0.0</td>\n",
       "      <td>0.0</td>\n",
       "      <td>NaN</td>\n",
       "    </tr>\n",
       "    <tr>\n",
       "      <th>3</th>\n",
       "      <td>2017-01-01</td>\n",
       "      <td>AA</td>\n",
       "      <td>19805</td>\n",
       "      <td>N3DDAA</td>\n",
       "      <td>2191</td>\n",
       "      <td>11697</td>\n",
       "      <td>1169704</td>\n",
       "      <td>32467</td>\n",
       "      <td>FLL</td>\n",
       "      <td>Fort Lauderdale</td>\n",
       "      <td>...</td>\n",
       "      <td>2017-01-01 15:28:00</td>\n",
       "      <td>-10.0</td>\n",
       "      <td>0.0</td>\n",
       "      <td>NaN</td>\n",
       "      <td>NaN</td>\n",
       "      <td>NaN</td>\n",
       "      <td>NaN</td>\n",
       "      <td>NaN</td>\n",
       "      <td>NaN</td>\n",
       "      <td>NaN</td>\n",
       "    </tr>\n",
       "    <tr>\n",
       "      <th>4</th>\n",
       "      <td>2017-01-01</td>\n",
       "      <td>AA</td>\n",
       "      <td>19805</td>\n",
       "      <td>N3HLAA</td>\n",
       "      <td>2192</td>\n",
       "      <td>11278</td>\n",
       "      <td>1127803</td>\n",
       "      <td>30852</td>\n",
       "      <td>DCA</td>\n",
       "      <td>Washington</td>\n",
       "      <td>...</td>\n",
       "      <td>2017-01-01 20:53:00</td>\n",
       "      <td>12.0</td>\n",
       "      <td>0.0</td>\n",
       "      <td>NaN</td>\n",
       "      <td>NaN</td>\n",
       "      <td>NaN</td>\n",
       "      <td>NaN</td>\n",
       "      <td>NaN</td>\n",
       "      <td>NaN</td>\n",
       "      <td>NaN</td>\n",
       "    </tr>\n",
       "  </tbody>\n",
       "</table>\n",
       "<p>5 rows × 33 columns</p>\n",
       "</div>"
      ],
      "text/plain": [
       "     fl_date unique_carrier  airline_id tail_num  fl_num  origin_airport_id  \\\n",
       "0 2017-01-01             AA       19805   N3GNAA    2186              14100   \n",
       "1 2017-01-01             AA       19805   N3KAAA    2189              11298   \n",
       "2 2017-01-01             AA       19805   N3LFAA    2190              11298   \n",
       "3 2017-01-01             AA       19805   N3DDAA    2191              11697   \n",
       "4 2017-01-01             AA       19805   N3HLAA    2192              11278   \n",
       "\n",
       "   origin_airport_seq_id  origin_city_market_id origin   origin_city_name  \\\n",
       "0                1410002                  34100    PHL       Philadelphia   \n",
       "1                1129804                  30194    DFW  Dallas/Fort Worth   \n",
       "2                1129804                  30194    DFW  Dallas/Fort Worth   \n",
       "3                1169704                  32467    FLL    Fort Lauderdale   \n",
       "4                1127803                  30852    DCA         Washington   \n",
       "\n",
       "   ...            arr_time  arr_delay  cancelled cancellation_code  \\\n",
       "0  ... 2017-01-01 07:31:00      -19.0        0.0               NaN   \n",
       "1  ... 2017-01-01 20:23:00       -4.0        0.0               NaN   \n",
       "2  ... 2017-01-01 00:04:00       16.0        0.0               NaN   \n",
       "3  ... 2017-01-01 15:28:00      -10.0        0.0               NaN   \n",
       "4  ... 2017-01-01 20:53:00       12.0        0.0               NaN   \n",
       "\n",
       "  carrier_delay weather_delay nas_delay  security_delay  late_aircraft_delay  \\\n",
       "0           NaN           NaN       NaN             NaN                  NaN   \n",
       "1           NaN           NaN       NaN             NaN                  NaN   \n",
       "2           0.0           0.0      16.0             0.0                  0.0   \n",
       "3           NaN           NaN       NaN             NaN                  NaN   \n",
       "4           NaN           NaN       NaN             NaN                  NaN   \n",
       "\n",
       "   unnamed: 32  \n",
       "0          NaN  \n",
       "1          NaN  \n",
       "2          NaN  \n",
       "3          NaN  \n",
       "4          NaN  \n",
       "\n",
       "[5 rows x 33 columns]"
      ]
     },
     "execution_count": 30,
     "metadata": {},
     "output_type": "execute_result"
    }
   ],
   "source": [
    "df.head()"
   ]
  },
  {
   "cell_type": "code",
   "execution_count": 14,
   "metadata": {
    "Collapsed": "false"
   },
   "outputs": [
    {
     "data": {
      "text/plain": [
       "<matplotlib.axes._subplots.AxesSubplot at 0x13d318400>"
      ]
     },
     "execution_count": 14,
     "metadata": {},
     "output_type": "execute_result"
    },
    {
     "data": {
      "image/png": "[encoded data removed]",
      "text/plain": [
       "<Figure size 432x288 with 1 Axes>"
      ]
     },
     "metadata": {
      "needs_background": "light"
     },
     "output_type": "display_data"
    }
   ],
   "source": [
    "(\n",
    "    # Drop rows with missing values in \"dep_time\" or \"unique_carrier\"\n",
    "    df.dropna(subset=[\"dep_time\", \"unique_carrier\"])\n",
    "    # Look only at the top 5 most popular carriers\n",
    "    .loc[\n",
    "        lambda _df: _df[\"unique_carrier\"].isin(\n",
    "            _df[\"unique_carrier\"].value_counts().index[:5]\n",
    "        )\n",
    "    ]\n",
    "    # Set the time as the index\n",
    "    .set_index(\"dep_time\")\n",
    "    # Group by both the unique carrier and by each our on the index\n",
    "    .groupby([\"unique_carrier\", pd.Grouper(freq=\"H\")])\n",
    "    # Get the number of \"fl_num\", this is the total number of flight\n",
    "    .fl_num.count()\n",
    "    # Pivot the table so the index values become the columns\n",
    "    .unstack(\"unique_carrier\")\n",
    "    # My addition. Since column is categorical we need to drop all these\n",
    "    # empty columns\n",
    "    .loc[:, lambda _df: _df.columns[0 < _df.sum()]]\n",
    "    # Fill missing values with 0\n",
    "    .fillna(0)\n",
    "    # Get the sum from the previous 24 rows\n",
    "    .rolling(24).sum()\n",
    "    # Rename\n",
    "    .rename_axis(\"Flights per Day\", axis=\"columns\")\n",
    "    # Plot\n",
    "    .plot()\n",
    ")"
   ]
  },
  {
   "cell_type": "code",
   "execution_count": 31,
   "metadata": {
    "Collapsed": "false"
   },
   "outputs": [
    {
     "data": {
      "text/plain": [
       "<matplotlib.axes._subplots.AxesSubplot at 0x14b21c5b0>"
      ]
     },
     "execution_count": 31,
     "metadata": {},
     "output_type": "execute_result"
    },
    {
     "data": {
      "image/png": "[encoded data removed]",
      "text/plain": [
       "<Figure size 1080x360 with 1 Axes>"
      ]
     },
     "metadata": {
      "needs_background": "light"
     },
     "output_type": "display_data"
    }
   ],
   "source": [
    "fig, ax = plt.subplots(figsize=(15, 5))\n",
    "ax.set_ylim(-50, 50)\n",
    "sns.despine()\n",
    "(\n",
    "    df[[\"fl_date\", \"tail_num\", \"dep_time\", \"dep_delay\"]]\n",
    "    .dropna()\n",
    "    .sort_values(\"dep_time\")\n",
    "    .loc[lambda _df: _df.dep_delay < 500]\n",
    "    .assign(\n",
    "        turn=lambda _df: _df.groupby([\"fl_date\", \"tail_num\"])\n",
    "        .dep_time.transform(\"rank\")\n",
    "        .astype(int)\n",
    "    )\n",
    "    # Pipe is powerful! Use a string as a keyword here if the dataframe\n",
    "    # is not the first argument of the function\n",
    "    # Note we can also pass **kwargs\n",
    "    .pipe((sns.boxplot, \"data\"), x=\"turn\", y=\"dep_delay\", ax=ax)\n",
    ")"
   ]
  },
  {
   "cell_type": "code",
   "execution_count": 26,
   "metadata": {
    "Collapsed": "false"
   },
   "outputs": [
    {
     "data": {
      "image/png": "[encoded data removed]",
      "text/plain": [
       "<Figure size 1080x360 with 1 Axes>"
      ]
     },
     "metadata": {
      "needs_background": "light"
     },
     "output_type": "display_data"
    }
   ],
   "source": [
    "plt.figure(figsize=(15, 5))\n",
    "(\n",
    "    df[[\"fl_date\", \"tail_num\", \"dep_time\", \"dep_delay\"]]\n",
    "    .dropna()\n",
    "    .assign(hour=lambda x: x.dep_time.dt.hour)\n",
    "    .query(\"5 < dep_delay < 600\")\n",
    "    .pipe((sns.boxplot, \"data\"), \"hour\", \"dep_delay\")\n",
    ")\n",
    "sns.despine()"
   ]
  },
  {
   "cell_type": "markdown",
   "metadata": {
    "Collapsed": "false"
   },
   "source": [
    "I liked this example from [Chang Hsin Lee](https://changhsinlee.com/pyjanitor/) on using the `lambda` function to help with method chaining.\n",
    "\n",
    "```python\n",
    "import pandas as pd\n",
    "\n",
    "raw_data = pd.read_csv(\"sales.csv\")\n",
    "df = (\n",
    "    raw_data.assign(order_date=lambda _df: pd.to_datetime(_df[\"order_date\"]))[\n",
    "        lambda _df: _df[\"order_date\"] >= pd.to_datetime(\"2019-11-09\")\n",
    "    ]\n",
    "    .groupby([\"category\"], axis=1)\n",
    "    .agg({\"dollars\": \"sum\", \"volume\": \"sum\",})\n",
    ")\n",
    "```"
   ]
  },
  {
   "cell_type": "markdown",
   "metadata": {
    "Collapsed": "false"
   },
   "source": [
    "Another good method chaining example from [dataschool](https://www.dataschool.io/future-of-pandas/#methodchaining) with using `lambda` with `.assign`\n",
    "\n",
    "```python\n",
    "import pandas as pd\n",
    "\n",
    "(\n",
    "    pd.read_csv(\"data/titanic.csv.gz\")\n",
    "    .query(\"Age < Age.quantile(.99)\")\n",
    "    .assign(\n",
    "        Sex=lambda df: df[\"Sex\"].replace({\"female\": 1, \"male\": 0}),\n",
    "        Age=lambda df: pandas.cut(\n",
    "            df[\"Age\"].fillna(df.Age.median()),\n",
    "            bins=[df.Age.min(), 18, 40, df.Age.max()],\n",
    "            labels=[\"Underage\", \"Young\", \"Experienced\"],\n",
    "        ),\n",
    "    )\n",
    "    .pivot_table(values=\"Sex\", columns=\"Pclass\", index=\"Age\", aggfunc=\"mean\")\n",
    "    .rename_axis(\"\", axis=\"columns\")\n",
    "    .rename(\"Class {}\".format, axis=\"columns\")\n",
    "    .style.format(\"{:.2%}\")\n",
    ")\n",
    "```"
   ]
  },
  {
   "cell_type": "code",
   "execution_count": null,
   "metadata": {
    "Collapsed": "false"
   },
   "outputs": [],
   "source": []
  }
 ],
 "metadata": {
  "jupytext": {
   "formats": "ipynb,py:percent,md"
  },
  "kernelspec": {
   "display_name": "modern-pandas",
   "language": "python",
   "name": "modern-pandas"
  },
  "language_info": {
   "codemirror_mode": {
    "name": "ipython",
    "version": 3
   },
   "file_extension": ".py",
   "mimetype": "text/x-python",
   "name": "python",
   "nbconvert_exporter": "python",
   "pygments_lexer": "ipython3",
   "version": "3.8.2"
  }
 },
 "nbformat": 4,
 "nbformat_minor": 4
}
